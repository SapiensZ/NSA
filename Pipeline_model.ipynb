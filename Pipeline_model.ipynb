{
 "cells": [
  {
   "cell_type": "code",
   "execution_count": 10,
   "metadata": {},
   "outputs": [],
   "source": [
    "import pandas as pd\n",
    "import numpy as np\n",
    "import csv"
   ]
  },
  {
   "cell_type": "code",
   "execution_count": 7,
   "metadata": {
    "scrolled": true
   },
   "outputs": [
    {
     "name": "stderr",
     "output_type": "stream",
     "text": [
      "/Users/antoineohleyer/miniconda3/envs/ipseite/lib/python3.7/site-packages/lightgbm/__init__.py:48: UserWarning: Starting from version 2.2.1, the library file in distribution wheels for macOS is built by the Apple Clang (Xcode_8.3.3) compiler.\n",
      "This means that in case of installing LightGBM from PyPI via the ``pip install lightgbm`` command, you don't need to install the gcc compiler anymore.\n",
      "Instead of that, you need to install the OpenMP library, which is required for running LightGBM on the system with the Apple Clang compiler.\n",
      "You can install the OpenMP library by the following command: ``brew install libomp``.\n",
      "  \"You can install the OpenMP library by the following command: ``brew install libomp``.\", UserWarning)\n"
     ]
    }
   ],
   "source": [
    "import matplotlib.pyplot as plt\n",
    "from sklearn.ensemble import RandomForestClassifier\n",
    "from sklearn.feature_selection import RFE\n",
    "import seaborn as sns\n",
    "from sklearn.model_selection import StratifiedKFold\n",
    "from sklearn.feature_selection import RFECV\n",
    "from sklearn import svm\n",
    "import lightgbm as lgb\n",
    "from sklearn.linear_model import LogisticRegression\n",
    "from sklearn.metrics import f1_score\n"
   ]
  },
  {
   "cell_type": "markdown",
   "metadata": {},
   "source": [
    "# Import Text Features"
   ]
  },
  {
   "cell_type": "code",
   "execution_count": 201,
   "metadata": {},
   "outputs": [],
   "source": [
    "df_text = pd.read_csv('text_features.csv')\n",
    "del df_text['Unnamed: 0']\n",
    "df_text['node1'] = df_text['node1'].astype(str)\n",
    "df_text['node2'] = df_text['node2'].astype(str)"
   ]
  },
  {
   "cell_type": "markdown",
   "metadata": {},
   "source": [
    "# Import Graph Features"
   ]
  },
  {
   "cell_type": "code",
   "execution_count": 172,
   "metadata": {},
   "outputs": [],
   "source": [
    "import re\n",
    "def number(x):\n",
    "    return re.sub(\"[^0-9]\", \"\", x)\n",
    "\n",
    "def clean_df_nodes(d):\n",
    "    d.iloc[:,0] = d.iloc[:,0].apply(lambda x : number(x))\n",
    "    d.iloc[:,1] = d.iloc[:,1].apply(lambda x : number(x))\n",
    "    d.columns = ['source', 'target']\n",
    "    return d"
   ]
  },
  {
   "cell_type": "code",
   "execution_count": 189,
   "metadata": {},
   "outputs": [],
   "source": [
    "with open(\"training_labels_0_307756.txt\", \"r\") as f:\n",
    "    reader = csv.reader(f, delimiter=' ')\n",
    "    training_labels_1 = list(reader)\n",
    "    \n",
    "with open(\"training_labels_307756_615512.txt\", \"r\") as f:\n",
    "    reader = csv.reader(f, delimiter=' ')\n",
    "    training_labels_2  = list(reader)\n",
    "    \n",
    "with open(\"training_graph_features_0_307756.txt\", \"r\") as f:\n",
    "    reader = csv.reader(f, delimiter=' ')\n",
    "    training_feat_1  = list(reader)\n",
    "    \n",
    "with open(\"training_graph_features_307756_615512.txt\", \"r\") as f:\n",
    "    reader = csv.reader(f, delimiter=' ')\n",
    "    training_feat_2  = list(reader)\n",
    "\n",
    "with open(\"training_labels_0_307756.txt\", \"r\") as f:\n",
    "    reader = csv.reader(f)\n",
    "    training_nodes_1  = list(reader)\n",
    "\n",
    "df_nodes_1 = pd.read_csv('training_nodes_0_307756.csv', sep=' ', header=None)\n",
    "df_nodes_1 = clean_df_nodes(df_nodes_1)\n",
    "df_nodes_2 = pd.read_csv('training_nodes_307756_615512.csv', sep=' ', header=None)\n",
    "df_nodes_2 = clean_df_nodes(df_nodes_2)\n",
    "df_nodes = pd.concat([df_nodes_1, df_nodes_2], axis=0)\n",
    "df_nodes.reset_index(inplace=True)\n",
    "\n",
    "\n",
    "df_1 = pd.DataFrame.from_records(np.array(training_feat_1))\n",
    "df_2 = pd.DataFrame.from_records(np.array(training_feat_2))\n",
    "df_feat = pd.concat([df_1, df_2], axis=0)\n",
    "df_feat.reset_index(inplace=True)\n",
    "\n",
    "df_labels = pd.DataFrame.from_records(np.array(training_labels_1), columns=['label'])\n",
    "df_labels.label = df_labels.label.apply(lambda x: int(float(x)))\n",
    "\n",
    "df_graph = pd.concat([df_nodes, df_feat, df_labels], axis=1)\n",
    "del df_graph['index']\n",
    "df_graph.columns = ['node1', 'node2', 'graph_0', 'graph_1', 'graph_2', 'graph_3', 'graph_4', 'graph_5', 'label']\n"
   ]
  },
  {
   "cell_type": "markdown",
   "metadata": {},
   "source": [
    "# Merging Features"
   ]
  },
  {
   "cell_type": "code",
   "execution_count": 204,
   "metadata": {},
   "outputs": [],
   "source": [
    "df_merged = df_text.merge(df_graph, on=['node1', 'node2'])"
   ]
  },
  {
   "cell_type": "code",
   "execution_count": 205,
   "metadata": {},
   "outputs": [
    {
     "data": {
      "text/plain": [
       "(62, 14)"
      ]
     },
     "execution_count": 205,
     "metadata": {},
     "output_type": "execute_result"
    }
   ],
   "source": [
    "df_merged.shape"
   ]
  },
  {
   "cell_type": "code",
   "execution_count": 182,
   "metadata": {},
   "outputs": [],
   "source": [
    "del df_graph['index']\n",
    "\n",
    "df_graph.columns = ['source', 'target', 'graph_0', 'graph_1', 'graph_2', 'graph_3', 'graph_4', 'graph_5', 'label']\n"
   ]
  },
  {
   "cell_type": "code",
   "execution_count": 150,
   "metadata": {},
   "outputs": [],
   "source": [
    "with open(\"training_nodes_0_307756.csv\", \"r\") as f:\n",
    "    reader = csv.reader(f)\n",
    "    node_info  = list(reader)"
   ]
  },
  {
   "cell_type": "code",
   "execution_count": 157,
   "metadata": {},
   "outputs": [],
   "source": []
  },
  {
   "cell_type": "code",
   "execution_count": 158,
   "metadata": {},
   "outputs": [],
   "source": [
    "d = pd.read_csv('training_nodes_0_307756.csv', sep=' ', header=None)"
   ]
  },
  {
   "cell_type": "code",
   "execution_count": 169,
   "metadata": {},
   "outputs": [],
   "source": [
    "d.iloc[:,0] = d.iloc[:,0].apply(lambda x : number(x))\n",
    "d.iloc[:,1] = d.iloc[:,1].apply(lambda x : number(x))\n",
    "d.columns = ['source', 'target']"
   ]
  },
  {
   "cell_type": "code",
   "execution_count": 171,
   "metadata": {},
   "outputs": [
    {
     "data": {
      "text/plain": [
       "(31, 2)"
      ]
     },
     "execution_count": 171,
     "metadata": {},
     "output_type": "execute_result"
    }
   ],
   "source": [
    "d.shape"
   ]
  },
  {
   "cell_type": "code",
   "execution_count": 63,
   "metadata": {},
   "outputs": [],
   "source": [
    "df_l = pd.DataFrame.from_records(np.array(training_labels_1))\n",
    "df_l.iloc[:,0] = df_l.iloc[:,0].apply(lambda x: int(float(x)))\n"
   ]
  },
  {
   "cell_type": "code",
   "execution_count": 64,
   "metadata": {},
   "outputs": [
    {
     "data": {
      "text/html": [
       "<div>\n",
       "<style scoped>\n",
       "    .dataframe tbody tr th:only-of-type {\n",
       "        vertical-align: middle;\n",
       "    }\n",
       "\n",
       "    .dataframe tbody tr th {\n",
       "        vertical-align: top;\n",
       "    }\n",
       "\n",
       "    .dataframe thead th {\n",
       "        text-align: right;\n",
       "    }\n",
       "</style>\n",
       "<table border=\"1\" class=\"dataframe\">\n",
       "  <thead>\n",
       "    <tr style=\"text-align: right;\">\n",
       "      <th></th>\n",
       "      <th>0</th>\n",
       "    </tr>\n",
       "  </thead>\n",
       "  <tbody>\n",
       "    <tr>\n",
       "      <td>0</td>\n",
       "      <td>1</td>\n",
       "    </tr>\n",
       "    <tr>\n",
       "      <td>1</td>\n",
       "      <td>1</td>\n",
       "    </tr>\n",
       "    <tr>\n",
       "      <td>2</td>\n",
       "      <td>1</td>\n",
       "    </tr>\n",
       "    <tr>\n",
       "      <td>3</td>\n",
       "      <td>1</td>\n",
       "    </tr>\n",
       "    <tr>\n",
       "      <td>4</td>\n",
       "      <td>0</td>\n",
       "    </tr>\n",
       "    <tr>\n",
       "      <td>...</td>\n",
       "      <td>...</td>\n",
       "    </tr>\n",
       "    <tr>\n",
       "      <td>180</td>\n",
       "      <td>1</td>\n",
       "    </tr>\n",
       "    <tr>\n",
       "      <td>181</td>\n",
       "      <td>0</td>\n",
       "    </tr>\n",
       "    <tr>\n",
       "      <td>182</td>\n",
       "      <td>1</td>\n",
       "    </tr>\n",
       "    <tr>\n",
       "      <td>183</td>\n",
       "      <td>1</td>\n",
       "    </tr>\n",
       "    <tr>\n",
       "      <td>184</td>\n",
       "      <td>0</td>\n",
       "    </tr>\n",
       "  </tbody>\n",
       "</table>\n",
       "<p>185 rows × 1 columns</p>\n",
       "</div>"
      ],
      "text/plain": [
       "     0\n",
       "0    1\n",
       "1    1\n",
       "2    1\n",
       "3    1\n",
       "4    0\n",
       "..  ..\n",
       "180  1\n",
       "181  0\n",
       "182  1\n",
       "183  1\n",
       "184  0\n",
       "\n",
       "[185 rows x 1 columns]"
      ]
     },
     "execution_count": 64,
     "metadata": {},
     "output_type": "execute_result"
    }
   ],
   "source": [
    "df_l"
   ]
  },
  {
   "cell_type": "code",
   "execution_count": 61,
   "metadata": {},
   "outputs": [
    {
     "data": {
      "text/plain": [
       "1.0"
      ]
     },
     "execution_count": 61,
     "metadata": {},
     "output_type": "execute_result"
    }
   ],
   "source": [
    "float('1.000000000000000000e+00')"
   ]
  },
  {
   "cell_type": "code",
   "execution_count": 4,
   "metadata": {},
   "outputs": [
    {
     "data": {
      "text/html": [
       "<div>\n",
       "<style scoped>\n",
       "    .dataframe tbody tr th:only-of-type {\n",
       "        vertical-align: middle;\n",
       "    }\n",
       "\n",
       "    .dataframe tbody tr th {\n",
       "        vertical-align: top;\n",
       "    }\n",
       "\n",
       "    .dataframe thead th {\n",
       "        text-align: right;\n",
       "    }\n",
       "</style>\n",
       "<table border=\"1\" class=\"dataframe\">\n",
       "  <thead>\n",
       "    <tr style=\"text-align: right;\">\n",
       "      <th></th>\n",
       "      <th>Unnamed: 0</th>\n",
       "      <th>node1</th>\n",
       "      <th>node2</th>\n",
       "      <th>author_overlap</th>\n",
       "      <th>title_overlap</th>\n",
       "      <th>abstract_overlap</th>\n",
       "      <th>cos_sim</th>\n",
       "      <th>is_link</th>\n",
       "    </tr>\n",
       "  </thead>\n",
       "  <tbody>\n",
       "    <tr>\n",
       "      <td>615507</td>\n",
       "      <td>615507</td>\n",
       "      <td>207180</td>\n",
       "      <td>9912293</td>\n",
       "      <td>0</td>\n",
       "      <td>0</td>\n",
       "      <td>2</td>\n",
       "      <td>0.044665</td>\n",
       "      <td>1</td>\n",
       "    </tr>\n",
       "    <tr>\n",
       "      <td>615508</td>\n",
       "      <td>615508</td>\n",
       "      <td>208203</td>\n",
       "      <td>9912293</td>\n",
       "      <td>0</td>\n",
       "      <td>0</td>\n",
       "      <td>4</td>\n",
       "      <td>0.084440</td>\n",
       "      <td>1</td>\n",
       "    </tr>\n",
       "    <tr>\n",
       "      <td>615509</td>\n",
       "      <td>615509</td>\n",
       "      <td>9509019</td>\n",
       "      <td>9912293</td>\n",
       "      <td>1</td>\n",
       "      <td>0</td>\n",
       "      <td>4</td>\n",
       "      <td>0.017692</td>\n",
       "      <td>0</td>\n",
       "    </tr>\n",
       "    <tr>\n",
       "      <td>615510</td>\n",
       "      <td>615510</td>\n",
       "      <td>9903127</td>\n",
       "      <td>9912293</td>\n",
       "      <td>1</td>\n",
       "      <td>0</td>\n",
       "      <td>0</td>\n",
       "      <td>0.000000</td>\n",
       "      <td>0</td>\n",
       "    </tr>\n",
       "    <tr>\n",
       "      <td>615511</td>\n",
       "      <td>615511</td>\n",
       "      <td>9903147</td>\n",
       "      <td>9912293</td>\n",
       "      <td>0</td>\n",
       "      <td>0</td>\n",
       "      <td>3</td>\n",
       "      <td>0.021835</td>\n",
       "      <td>0</td>\n",
       "    </tr>\n",
       "  </tbody>\n",
       "</table>\n",
       "</div>"
      ],
      "text/plain": [
       "        Unnamed: 0    node1    node2  author_overlap  title_overlap  \\\n",
       "615507      615507   207180  9912293               0              0   \n",
       "615508      615508   208203  9912293               0              0   \n",
       "615509      615509  9509019  9912293               1              0   \n",
       "615510      615510  9903127  9912293               1              0   \n",
       "615511      615511  9903147  9912293               0              0   \n",
       "\n",
       "        abstract_overlap   cos_sim  is_link  \n",
       "615507                 2  0.044665        1  \n",
       "615508                 4  0.084440        1  \n",
       "615509                 4  0.017692        0  \n",
       "615510                 0  0.000000        0  \n",
       "615511                 3  0.021835        0  "
      ]
     },
     "execution_count": 4,
     "metadata": {},
     "output_type": "execute_result"
    }
   ],
   "source": [
    "X_train = df_text.iloc[]"
   ]
  },
  {
   "cell_type": "code",
   "execution_count": null,
   "metadata": {},
   "outputs": [],
   "source": [
    "kf = StratifiedKFold(n_splits=3, shuffle=True)"
   ]
  },
  {
   "cell_type": "code",
   "execution_count": 8,
   "metadata": {},
   "outputs": [],
   "source": [
    "def train_predict_save(model, X_train, X_val, y_train, y_val):\n",
    "    fscore_train = f1_score(y_train,\n",
    "                        model.predict(X_train))\n",
    "    fscore_val = f1_score(y_val,\n",
    "                        model.predict(X_val))\n",
    "\n",
    "    return(fscore_train, fscore_val)\n",
    "\n",
    "def eval_model(model, X_train, y_train, idx):\n",
    "    predicts_t = []\n",
    "    predicts_v = []\n",
    "    for train_features, training_labels in kf.split(train_features, training_labels):\n",
    "        n = int(0.1*(len(train_index)+len(test_index)))\n",
    "        random.shuffle(test_index)\n",
    "        test_index_new = test_index[:n]\n",
    "        train_index_new = np.union1d(test_index[n:], train_index)\n",
    "\n",
    "        X_train, X_val = train_features.iloc[train_index_new], train_features.iloc[test_index_new]\n",
    "        y_train, y_val = training_labels.iloc[train_index_new], training_labels.iloc[test_index_new]\n",
    "        \n",
    "        if idx == 0:\n",
    "            model.fit(X_train, y_train, eval_set=[(X_val, y_val)],\n",
    "                    early_stopping_rounds=50, verbose=None)\n",
    "        else:\n",
    "            model.fit(X_train, y_train)\n",
    "        fscore_t, fscore_v = train_predict_save(model, X_train, X_val, y_train, y_val)\n",
    "        predicts_t.append(fscore_t)\n",
    "        predicts_v.append(fscore_v)\n",
    "        \n",
    "    return(predicts_t, predicts_v)"
   ]
  },
  {
   "cell_type": "code",
   "execution_count": null,
   "metadata": {},
   "outputs": [],
   "source": []
  },
  {
   "cell_type": "code",
   "execution_count": null,
   "metadata": {},
   "outputs": [],
   "source": [
    "modelGB = lgb.LGBMClassifier(objective='binary', reg_lambda=config.reg_lambda_gb,\n",
    "                           n_estimators=config.n_estimator_GB  )\n",
    "modelRF = RandomForestClassifier(n_estimators=500)\n",
    "modelSVM = svm.LinearSVC()\n",
    "modelL = LogisticRegression()\n",
    "\n",
    "res_t = {}\n",
    "res_v = {}\n",
    "for idx, model in enumerate([modelGB, modelRF, modelSVM, modelL]):\n",
    "    print(idx)\n",
    "    (fscore_t, fscore_v) = eval_model(model, train_features, training_labels, idx)\n",
    "    res_t[idx] = fscore_t\n",
    "    res_v[idx] = fscore_v\n"
   ]
  }
 ],
 "metadata": {
  "kernelspec": {
   "display_name": "Python 3",
   "language": "python",
   "name": "python3"
  },
  "language_info": {
   "codemirror_mode": {
    "name": "ipython",
    "version": 3
   },
   "file_extension": ".py",
   "mimetype": "text/x-python",
   "name": "python",
   "nbconvert_exporter": "python",
   "pygments_lexer": "ipython3",
   "version": "3.7.6"
  }
 },
 "nbformat": 4,
 "nbformat_minor": 4
}
