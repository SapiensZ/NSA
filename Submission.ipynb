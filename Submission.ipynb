{
 "cells": [
  {
   "cell_type": "markdown",
   "metadata": {},
   "source": [
    "# Missing link prediction - Kaggle competition"
   ]
  },
  {
   "cell_type": "markdown",
   "metadata": {},
   "source": [
    "### Libraries"
   ]
  },
  {
   "cell_type": "code",
   "execution_count": 583,
   "metadata": {},
   "outputs": [],
   "source": [
    "import pandas as pd\n",
    "import matplotlib.pyplot as plt\n",
    "import numpy as np\n",
    "import random\n",
    "import csv\n"
   ]
  },
  {
   "cell_type": "code",
   "execution_count": 30,
   "metadata": {},
   "outputs": [],
   "source": [
    "import igraph\n",
    "import networkx as nx"
   ]
  },
  {
   "cell_type": "code",
   "execution_count": 32,
   "metadata": {},
   "outputs": [],
   "source": [
    "from sklearn import svm\n",
    "from sklearn.feature_extraction.text import TfidfVectorizer\n",
    "from sklearn.metrics.pairwise import linear_kernel\n",
    "from sklearn.cluster import KMeans\n",
    "from sklearn.decomposition import PCA\n",
    "from sklearn import preprocessing"
   ]
  },
  {
   "cell_type": "code",
   "execution_count": 66,
   "metadata": {},
   "outputs": [],
   "source": [
    "import gensim\n",
    "from gensim.models import Doc2Vec\n",
    "from textblob import TextBlob"
   ]
  },
  {
   "cell_type": "markdown",
   "metadata": {},
   "source": [
    "### Read data"
   ]
  },
  {
   "cell_type": "code",
   "execution_count": 16,
   "metadata": {},
   "outputs": [],
   "source": [
    "with open(\"training_set.txt\", \"r\") as f:\n",
    "    reader = csv.reader(f)\n",
    "    training_set  = list(reader)\n",
    "\n",
    "training_set = [element[0].split(\" \") for element in training_set]\n",
    "\n",
    "with open(\"testing_set.txt\", \"r\") as f:\n",
    "    reader = csv.reader(f)\n",
    "    testing_set  = list(reader)\n",
    "\n",
    "testing_set = [element[0].split(\" \") for element in testing_set]\n",
    "\n",
    "with open(\"node_information.csv\", \"r\") as f:\n",
    "    reader = csv.reader(f)\n",
    "    node_info  = list(reader)\n",
    "\n",
    "IDs = [element[0] for element in node_info]"
   ]
  },
  {
   "cell_type": "code",
   "execution_count": 17,
   "metadata": {},
   "outputs": [],
   "source": [
    "n_info = pd.read_csv('node_information.csv',header=None)\n",
    "colnames = ['id','year','title','author','journal','abstract']\n",
    "n_info.columns = colnames"
   ]
  },
  {
   "cell_type": "code",
   "execution_count": 324,
   "metadata": {},
   "outputs": [
    {
     "ename": "NameError",
     "evalue": "name 'n_info' is not defined",
     "output_type": "error",
     "traceback": [
      "\u001b[0;31m---------------------------------------------------------------------------\u001b[0m",
      "\u001b[0;31mNameError\u001b[0m                                 Traceback (most recent call last)",
      "\u001b[0;32m<ipython-input-324-4022dcd71fc1>\u001b[0m in \u001b[0;36m<module>\u001b[0;34m\u001b[0m\n\u001b[0;32m----> 1\u001b[0;31m \u001b[0mn_info\u001b[0m\u001b[0;34m.\u001b[0m\u001b[0mshape\u001b[0m\u001b[0;34m\u001b[0m\u001b[0;34m\u001b[0m\u001b[0m\n\u001b[0m",
      "\u001b[0;31mNameError\u001b[0m: name 'n_info' is not defined"
     ]
    }
   ],
   "source": [
    "n_info.shape"
   ]
  },
  {
   "cell_type": "code",
   "execution_count": 25,
   "metadata": {},
   "outputs": [
    {
     "name": "stdout",
     "output_type": "stream",
     "text": [
      "_____________________________\n",
      "training sample:\n",
      "[['9510123', '9502114', '1']]\n",
      "_____________________________\n",
      "testing sample:\n",
      "[['9807076', '9807139']]\n",
      "_____________________________\n"
     ]
    }
   ],
   "source": [
    "# Visualize graph data\n",
    "\n",
    "print('_____________________________')\n",
    "print('training sample:')\n",
    "print(training_set[:1])\n",
    "print('_____________________________')\n",
    "print('testing sample:')\n",
    "print(testing_set[:1])\n",
    "print('_____________________________')"
   ]
  },
  {
   "cell_type": "markdown",
   "metadata": {},
   "source": [
    "# Cleaning and processing"
   ]
  },
  {
   "cell_type": "markdown",
   "metadata": {},
   "source": [
    "### Cleaning of Author names to remove duplicates "
   ]
  },
  {
   "cell_type": "code",
   "execution_count": 134,
   "metadata": {},
   "outputs": [],
   "source": [
    "import re\n",
    "from fuzzywuzzy import fuzz\n",
    "from fuzzywuzzy import process"
   ]
  },
  {
   "cell_type": "code",
   "execution_count": 5,
   "metadata": {},
   "outputs": [],
   "source": [
    "net = pd.read_csv('checkpoint1.csv')"
   ]
  },
  {
   "cell_type": "code",
   "execution_count": 394,
   "metadata": {},
   "outputs": [
    {
     "data": {
      "text/html": [
       "<div>\n",
       "<style scoped>\n",
       "    .dataframe tbody tr th:only-of-type {\n",
       "        vertical-align: middle;\n",
       "    }\n",
       "\n",
       "    .dataframe tbody tr th {\n",
       "        vertical-align: top;\n",
       "    }\n",
       "\n",
       "    .dataframe thead th {\n",
       "        text-align: right;\n",
       "    }\n",
       "</style>\n",
       "<table border=\"1\" class=\"dataframe\">\n",
       "  <thead>\n",
       "    <tr style=\"text-align: right;\">\n",
       "      <th></th>\n",
       "      <th>Unnamed: 0</th>\n",
       "      <th>id</th>\n",
       "      <th>year</th>\n",
       "      <th>title</th>\n",
       "      <th>author</th>\n",
       "      <th>journal</th>\n",
       "      <th>abstract</th>\n",
       "      <th>abstract_reduced</th>\n",
       "      <th>title_reduced</th>\n",
       "      <th>abstit_reduced</th>\n",
       "    </tr>\n",
       "  </thead>\n",
       "  <tbody>\n",
       "    <tr>\n",
       "      <th>0</th>\n",
       "      <td>0</td>\n",
       "      <td>1001</td>\n",
       "      <td>2000</td>\n",
       "      <td>compactification geometry and duality</td>\n",
       "      <td>Paul S. Aspinwall</td>\n",
       "      <td>NaN</td>\n",
       "      <td>these are notes based on lectures given at tas...</td>\n",
       "      <td>tasi99 geometry moduli space n point view comp...</td>\n",
       "      <td>compactification geometry duality</td>\n",
       "      <td>tasi99 geometry moduli space n point view comp...</td>\n",
       "    </tr>\n",
       "    <tr>\n",
       "      <th>1</th>\n",
       "      <td>1</td>\n",
       "      <td>1002</td>\n",
       "      <td>2000</td>\n",
       "      <td>domain walls and massive gauged supergravity p...</td>\n",
       "      <td>M. Cvetic, H. Lu, C.N. Pope</td>\n",
       "      <td>Class.Quant.Grav.</td>\n",
       "      <td>we point out that massive gauged supergravity ...</td>\n",
       "      <td>massive supergravity example due massive breat...</td>\n",
       "      <td>domain massive supergravity</td>\n",
       "      <td>massive supergravity example due massive breat...</td>\n",
       "    </tr>\n",
       "    <tr>\n",
       "      <th>2</th>\n",
       "      <td>2</td>\n",
       "      <td>1003</td>\n",
       "      <td>2000</td>\n",
       "      <td>comment on metric fluctuations in brane worlds</td>\n",
       "      <td>Y.S. Myung, Gungwon Kang</td>\n",
       "      <td>NaN</td>\n",
       "      <td>recently ivanov and volovich hep-th 9912242 cl...</td>\n",
       "      <td>ivanov volovich hep-th perturbation h mu nu no...</td>\n",
       "      <td>comment metric brane</td>\n",
       "      <td>ivanov volovich hep-th perturbation h mu nu no...</td>\n",
       "    </tr>\n",
       "    <tr>\n",
       "      <th>3</th>\n",
       "      <td>3</td>\n",
       "      <td>1004</td>\n",
       "      <td>2000</td>\n",
       "      <td>moving mirrors and thermodynamic paradoxes</td>\n",
       "      <td>Adam D. Helfer</td>\n",
       "      <td>Phys.Rev.</td>\n",
       "      <td>quantum fields responding to moving mirrors ha...</td>\n",
       "      <td>quantum rise assumption such work mirror exter...</td>\n",
       "      <td>thermodynamic</td>\n",
       "      <td>quantum rise assumption such work mirror exter...</td>\n",
       "    </tr>\n",
       "    <tr>\n",
       "      <th>4</th>\n",
       "      <td>4</td>\n",
       "      <td>1005</td>\n",
       "      <td>2000</td>\n",
       "      <td>bundles of chiral blocks and boundary conditio...</td>\n",
       "      <td>J. Fuchs, C. Schweigert</td>\n",
       "      <td>NaN</td>\n",
       "      <td>proceedings of lie iii clausthal july 1999 var...</td>\n",
       "      <td>lie iii clausthal july various chiral particul...</td>\n",
       "      <td>chiral boundary cft</td>\n",
       "      <td>lie iii clausthal july various chiral particul...</td>\n",
       "    </tr>\n",
       "    <tr>\n",
       "      <th>...</th>\n",
       "      <td>...</td>\n",
       "      <td>...</td>\n",
       "      <td>...</td>\n",
       "      <td>...</td>\n",
       "      <td>...</td>\n",
       "      <td>...</td>\n",
       "      <td>...</td>\n",
       "      <td>...</td>\n",
       "      <td>...</td>\n",
       "      <td>...</td>\n",
       "    </tr>\n",
       "    <tr>\n",
       "      <th>27765</th>\n",
       "      <td>27765</td>\n",
       "      <td>9912289</td>\n",
       "      <td>2002</td>\n",
       "      <td>gauge fixing in the chain by chain method</td>\n",
       "      <td>A Shirzad, F Loran</td>\n",
       "      <td>NaN</td>\n",
       "      <td>in a recent work we showed that for a hamilton...</td>\n",
       "      <td>recent work hamiltonian system set first secon...</td>\n",
       "      <td>gauge fixing chain chain method</td>\n",
       "      <td>recent work hamiltonian system set first secon...</td>\n",
       "    </tr>\n",
       "    <tr>\n",
       "      <th>27766</th>\n",
       "      <td>27766</td>\n",
       "      <td>9912290</td>\n",
       "      <td>2000</td>\n",
       "      <td>shuffling quantum field theory</td>\n",
       "      <td>Dirk Kreimer</td>\n",
       "      <td>Lett.Math.Phys.</td>\n",
       "      <td>we discuss shuffle identities between feynman ...</td>\n",
       "      <td>shuffle feynman graphs hopf algebra structure ...</td>\n",
       "      <td>quantum field theory</td>\n",
       "      <td>shuffle feynman graphs hopf algebra structure ...</td>\n",
       "    </tr>\n",
       "    <tr>\n",
       "      <th>27767</th>\n",
       "      <td>27767</td>\n",
       "      <td>9912291</td>\n",
       "      <td>1999</td>\n",
       "      <td>small object limit of casimir effect and the s...</td>\n",
       "      <td>O. Kenneth, S. Nussinov</td>\n",
       "      <td>Phys.Rev.</td>\n",
       "      <td>we show a simple way of deriving the casimir p...</td>\n",
       "      <td>simple way casimir polder interaction general ...</td>\n",
       "      <td>small object limit casimir effect sign casimir...</td>\n",
       "      <td>simple way casimir polder interaction general ...</td>\n",
       "    </tr>\n",
       "    <tr>\n",
       "      <th>27768</th>\n",
       "      <td>27768</td>\n",
       "      <td>9912292</td>\n",
       "      <td>1999</td>\n",
       "      <td>1 4 pbgs and superparticle actions</td>\n",
       "      <td>F.Delduc, E. Ivanov, S. Krivonos</td>\n",
       "      <td>NaN</td>\n",
       "      <td>karpacz poland september 21-25 1999 we constru...</td>\n",
       "      <td>karpacz poland 21-25 worldline massive superpa...</td>\n",
       "      <td>pbgs superparticle</td>\n",
       "      <td>karpacz poland 21-25 worldline massive superpa...</td>\n",
       "    </tr>\n",
       "    <tr>\n",
       "      <th>27769</th>\n",
       "      <td>27769</td>\n",
       "      <td>9912293</td>\n",
       "      <td>2000</td>\n",
       "      <td>corrections to the abelian born-infeld action ...</td>\n",
       "      <td>L. Cornalba (I.H.E.S.)</td>\n",
       "      <td>JHEP</td>\n",
       "      <td>noncommutative geometry in a recent paper seib...</td>\n",
       "      <td>noncommutative geometry recent paper seiberg f...</td>\n",
       "      <td>abelian born-infeld action</td>\n",
       "      <td>noncommutative geometry recent paper seiberg f...</td>\n",
       "    </tr>\n",
       "  </tbody>\n",
       "</table>\n",
       "<p>27770 rows × 10 columns</p>\n",
       "</div>"
      ],
      "text/plain": [
       "       Unnamed: 0       id  year  \\\n",
       "0               0     1001  2000   \n",
       "1               1     1002  2000   \n",
       "2               2     1003  2000   \n",
       "3               3     1004  2000   \n",
       "4               4     1005  2000   \n",
       "...           ...      ...   ...   \n",
       "27765       27765  9912289  2002   \n",
       "27766       27766  9912290  2000   \n",
       "27767       27767  9912291  1999   \n",
       "27768       27768  9912292  1999   \n",
       "27769       27769  9912293  2000   \n",
       "\n",
       "                                                   title  \\\n",
       "0                  compactification geometry and duality   \n",
       "1      domain walls and massive gauged supergravity p...   \n",
       "2         comment on metric fluctuations in brane worlds   \n",
       "3             moving mirrors and thermodynamic paradoxes   \n",
       "4      bundles of chiral blocks and boundary conditio...   \n",
       "...                                                  ...   \n",
       "27765          gauge fixing in the chain by chain method   \n",
       "27766                     shuffling quantum field theory   \n",
       "27767  small object limit of casimir effect and the s...   \n",
       "27768                 1 4 pbgs and superparticle actions   \n",
       "27769  corrections to the abelian born-infeld action ...   \n",
       "\n",
       "                                 author            journal  \\\n",
       "0                     Paul S. Aspinwall                NaN   \n",
       "1           M. Cvetic, H. Lu, C.N. Pope  Class.Quant.Grav.   \n",
       "2              Y.S. Myung, Gungwon Kang                NaN   \n",
       "3                        Adam D. Helfer          Phys.Rev.   \n",
       "4               J. Fuchs, C. Schweigert                NaN   \n",
       "...                                 ...                ...   \n",
       "27765                A Shirzad, F Loran                NaN   \n",
       "27766                      Dirk Kreimer    Lett.Math.Phys.   \n",
       "27767           O. Kenneth, S. Nussinov          Phys.Rev.   \n",
       "27768  F.Delduc, E. Ivanov, S. Krivonos                NaN   \n",
       "27769            L. Cornalba (I.H.E.S.)               JHEP   \n",
       "\n",
       "                                                abstract  \\\n",
       "0      these are notes based on lectures given at tas...   \n",
       "1      we point out that massive gauged supergravity ...   \n",
       "2      recently ivanov and volovich hep-th 9912242 cl...   \n",
       "3      quantum fields responding to moving mirrors ha...   \n",
       "4      proceedings of lie iii clausthal july 1999 var...   \n",
       "...                                                  ...   \n",
       "27765  in a recent work we showed that for a hamilton...   \n",
       "27766  we discuss shuffle identities between feynman ...   \n",
       "27767  we show a simple way of deriving the casimir p...   \n",
       "27768  karpacz poland september 21-25 1999 we constru...   \n",
       "27769  noncommutative geometry in a recent paper seib...   \n",
       "\n",
       "                                        abstract_reduced  \\\n",
       "0      tasi99 geometry moduli space n point view comp...   \n",
       "1      massive supergravity example due massive breat...   \n",
       "2      ivanov volovich hep-th perturbation h mu nu no...   \n",
       "3      quantum rise assumption such work mirror exter...   \n",
       "4      lie iii clausthal july various chiral particul...   \n",
       "...                                                  ...   \n",
       "27765  recent work hamiltonian system set first secon...   \n",
       "27766  shuffle feynman graphs hopf algebra structure ...   \n",
       "27767  simple way casimir polder interaction general ...   \n",
       "27768  karpacz poland 21-25 worldline massive superpa...   \n",
       "27769  noncommutative geometry recent paper seiberg f...   \n",
       "\n",
       "                                           title_reduced  \\\n",
       "0                      compactification geometry duality   \n",
       "1                            domain massive supergravity   \n",
       "2                                   comment metric brane   \n",
       "3                                          thermodynamic   \n",
       "4                                    chiral boundary cft   \n",
       "...                                                  ...   \n",
       "27765                    gauge fixing chain chain method   \n",
       "27766                               quantum field theory   \n",
       "27767  small object limit casimir effect sign casimir...   \n",
       "27768                                 pbgs superparticle   \n",
       "27769                         abelian born-infeld action   \n",
       "\n",
       "                                          abstit_reduced  \n",
       "0      tasi99 geometry moduli space n point view comp...  \n",
       "1      massive supergravity example due massive breat...  \n",
       "2      ivanov volovich hep-th perturbation h mu nu no...  \n",
       "3      quantum rise assumption such work mirror exter...  \n",
       "4      lie iii clausthal july various chiral particul...  \n",
       "...                                                  ...  \n",
       "27765  recent work hamiltonian system set first secon...  \n",
       "27766  shuffle feynman graphs hopf algebra structure ...  \n",
       "27767  simple way casimir polder interaction general ...  \n",
       "27768  karpacz poland 21-25 worldline massive superpa...  \n",
       "27769  noncommutative geometry recent paper seiberg f...  \n",
       "\n",
       "[27770 rows x 10 columns]"
      ]
     },
     "execution_count": 394,
     "metadata": {},
     "output_type": "execute_result"
    }
   ],
   "source": [
    "net"
   ]
  },
  {
   "cell_type": "code",
   "execution_count": 148,
   "metadata": {},
   "outputs": [],
   "source": [
    "# Remove universities in parenthesis\n",
    "\n",
    "auth_no_uni = net.author.apply(lambda x: re.sub(r'\\([^)]*\\)', '', str(x)))"
   ]
  },
  {
   "cell_type": "code",
   "execution_count": 358,
   "metadata": {},
   "outputs": [],
   "source": [
    "# Separate authors in different columns\n",
    "\n",
    "auth_col_split = auth_no_uni.str.split(\", \",expand=True,)\n",
    "\n",
    "# Merge all authors in one column\n",
    "\n",
    "sing_auth_list = pd.DataFrame(auth_col_split.stack().tolist()).drop_duplicates().dropna()"
   ]
  },
  {
   "cell_type": "code",
   "execution_count": 275,
   "metadata": {},
   "outputs": [],
   "source": [
    "# Helper function to get only first and last names without middle names\n",
    "\n",
    "def getFirstAndLastWords(author):\n",
    "    if author != '':\n",
    "        i = author.split()\n",
    "        res = i[0] ,i[-1]\n",
    "        res = ' '.join(res)\n",
    "    if author == '':\n",
    "        res = ''\n",
    "    if author == None:\n",
    "        res = ''\n",
    "    return res"
   ]
  },
  {
   "cell_type": "code",
   "execution_count": 276,
   "metadata": {},
   "outputs": [],
   "source": [
    "# Helper function to get only initial of the first name \n",
    "\n",
    "def getFirstNameInitial(author):\n",
    "    if author != '':\n",
    "        i = author.split()\n",
    "        res = i[0][0], i[1]\n",
    "        res = ' '.join(res)\n",
    "    if author == '':\n",
    "        res = ''\n",
    "    if author == None:\n",
    "        res = ''\n",
    "    return res"
   ]
  },
  {
   "cell_type": "code",
   "execution_count": 314,
   "metadata": {},
   "outputs": [],
   "source": [
    "# Cleaning pipeline \n",
    "\n",
    "def pipeAuthClean0(c):\n",
    "    \n",
    "    #for col in range(len(c.columns)):\n",
    "    c = c[0].str.strip()\n",
    "    c = c.apply(lambda x: str(x).replace('.', '. '))    # Put space after each dot\n",
    "    c = c.apply(lambda x: re.sub(' +', ' ', str(x)))    # Normalize all spaces down to one space\n",
    "    c = c.apply(lambda x: x.split('(', 1)[0])           # Remove all characters after a parenthesis\n",
    "    c = c.apply(lambda x: getFirstAndLastWords(str(x)))\n",
    "    c = c.apply(lambda x: getFirstNameInitial(str(x)))\n",
    "    c = c.apply(lambda x: str(x).replace('N None', ''))\n",
    "    c = pd.DataFrame(c)\n",
    "    #res = res.assign(i = c)\n",
    "    #c = c.drop_duplicates()\n",
    "    \n",
    "    return c"
   ]
  },
  {
   "cell_type": "code",
   "execution_count": 315,
   "metadata": {},
   "outputs": [],
   "source": [
    "# Cleaning pipeline \n",
    "\n",
    "def pipeAuthClean1(c):\n",
    "    \n",
    "    #for col in range(len(c.columns)):\n",
    "    c = c[1].str.strip()\n",
    "    c = c.apply(lambda x: str(x).replace('.', '. '))    # Put space after each dot\n",
    "    c = c.apply(lambda x: re.sub(' +', ' ', str(x)))    # Normalize all spaces down to one space\n",
    "    c = c.apply(lambda x: x.split('(', 1)[0])           # Remove all characters after a parenthesis\n",
    "    c = c.apply(lambda x: getFirstAndLastWords(str(x)))\n",
    "    c = c.apply(lambda x: getFirstNameInitial(str(x)))\n",
    "    c = c.apply(lambda x: str(x).replace('N None', ''))\n",
    "    c = pd.DataFrame(c)\n",
    "    #res = res.assign(i = c)\n",
    "    #c = c.drop_duplicates()\n",
    "    \n",
    "    return c"
   ]
  },
  {
   "cell_type": "code",
   "execution_count": 316,
   "metadata": {},
   "outputs": [],
   "source": [
    "# Cleaning pipeline \n",
    "\n",
    "def pipeAuthClean2(c):\n",
    "    \n",
    "    #for col in range(len(c.columns)):\n",
    "    c = c[2].str.strip()\n",
    "    c = c.apply(lambda x: str(x).replace('.', '. '))    # Put space after each dot\n",
    "    c = c.apply(lambda x: re.sub(' +', ' ', str(x)))    # Normalize all spaces down to one space\n",
    "    c = c.apply(lambda x: x.split('(', 1)[0])           # Remove all characters after a parenthesis\n",
    "    c = c.apply(lambda x: getFirstAndLastWords(str(x)))\n",
    "    c = c.apply(lambda x: getFirstNameInitial(str(x)))\n",
    "    c = c.apply(lambda x: str(x).replace('N None', ''))\n",
    "    c = pd.DataFrame(c)\n",
    "    #res = res.assign(i = c)\n",
    "    #c = c.drop_duplicates()\n",
    "    \n",
    "    return c"
   ]
  },
  {
   "cell_type": "code",
   "execution_count": 317,
   "metadata": {},
   "outputs": [],
   "source": [
    "# Cleaning pipeline \n",
    "\n",
    "def pipeAuthClean3(c):\n",
    "    \n",
    "    #for col in range(len(c.columns)):\n",
    "    c = c[3].str.strip()\n",
    "    c = c.apply(lambda x: str(x).replace('.', '. '))    # Put space after each dot\n",
    "    c = c.apply(lambda x: re.sub(' +', ' ', str(x)))    # Normalize all spaces down to one space\n",
    "    c = c.apply(lambda x: x.split('(', 1)[0])           # Remove all characters after a parenthesis\n",
    "    c = c.apply(lambda x: getFirstAndLastWords(str(x)))\n",
    "    c = c.apply(lambda x: getFirstNameInitial(str(x)))\n",
    "    c = c.apply(lambda x: str(x).replace('N None', ''))\n",
    "    c = pd.DataFrame(c)\n",
    "    #res = res.assign(i = c)\n",
    "    #c = c.drop_duplicates()\n",
    "    \n",
    "    return c"
   ]
  },
  {
   "cell_type": "code",
   "execution_count": 318,
   "metadata": {},
   "outputs": [],
   "source": [
    "# Cleaning pipeline \n",
    "\n",
    "def pipeAuthClean4(c):\n",
    "    \n",
    "    #for col in range(len(c.columns)):\n",
    "    c = c[4].str.strip()\n",
    "    c = c.apply(lambda x: str(x).replace('.', '. '))    # Put space after each dot\n",
    "    c = c.apply(lambda x: re.sub(' +', ' ', str(x)))    # Normalize all spaces down to one space\n",
    "    c = c.apply(lambda x: x.split('(', 1)[0])           # Remove all characters after a parenthesis\n",
    "    c = c.apply(lambda x: getFirstAndLastWords(str(x)))\n",
    "    c = c.apply(lambda x: getFirstNameInitial(str(x)))\n",
    "    c = c.apply(lambda x: str(x).replace('N None', ''))\n",
    "    c = pd.DataFrame(c)\n",
    "    #res = res.assign(i = c)\n",
    "    #c = c.drop_duplicates()\n",
    "    \n",
    "    return c"
   ]
  },
  {
   "cell_type": "code",
   "execution_count": 319,
   "metadata": {},
   "outputs": [],
   "source": [
    "# Cleaning pipeline \n",
    "\n",
    "def pipeAuthClean5(c):\n",
    "    \n",
    "    #for col in range(len(c.columns)):\n",
    "    c = c[5].str.strip()\n",
    "    c = c.apply(lambda x: str(x).replace('.', '. '))    # Put space after each dot\n",
    "    c = c.apply(lambda x: re.sub(' +', ' ', str(x)))    # Normalize all spaces down to one space\n",
    "    c = c.apply(lambda x: x.split('(', 1)[0])           # Remove all characters after a parenthesis\n",
    "    c = c.apply(lambda x: getFirstAndLastWords(str(x)))\n",
    "    c = c.apply(lambda x: getFirstNameInitial(str(x)))\n",
    "    c = c.apply(lambda x: str(x).replace('N None', ''))\n",
    "    c = pd.DataFrame(c)\n",
    "    #res = res.assign(i = c)\n",
    "    #c = c.drop_duplicates()\n",
    "    \n",
    "    return c"
   ]
  },
  {
   "cell_type": "code",
   "execution_count": 320,
   "metadata": {},
   "outputs": [],
   "source": [
    "# Cleaning pipeline \n",
    "\n",
    "def pipeAuthClean6(c):\n",
    "    \n",
    "    #for col in range(len(c.columns)):\n",
    "    c = c[6].str.strip()\n",
    "    c = c.apply(lambda x: str(x).replace('.', '. '))    # Put space after each dot\n",
    "    c = c.apply(lambda x: re.sub(' +', ' ', str(x)))    # Normalize all spaces down to one space\n",
    "    c = c.apply(lambda x: x.split('(', 1)[0])           # Remove all characters after a parenthesis\n",
    "    c = c.apply(lambda x: getFirstAndLastWords(str(x)))\n",
    "    c = c.apply(lambda x: getFirstNameInitial(str(x)))\n",
    "    c = c.apply(lambda x: str(x).replace('N None', ''))\n",
    "    c = pd.DataFrame(c)\n",
    "    #res = res.assign(i = c)\n",
    "    #c = c.drop_duplicates()\n",
    "    \n",
    "    return c"
   ]
  },
  {
   "cell_type": "code",
   "execution_count": 321,
   "metadata": {},
   "outputs": [],
   "source": [
    "# Cleaning pipeline \n",
    "\n",
    "def pipeAuthClean7(c):\n",
    "    \n",
    "    #for col in range(len(c.columns)):\n",
    "    c = c[7].str.strip()\n",
    "    c = c.apply(lambda x: str(x).replace('.', '. '))    # Put space after each dot\n",
    "    c = c.apply(lambda x: re.sub(' +', ' ', str(x)))    # Normalize all spaces down to one space\n",
    "    c = c.apply(lambda x: x.split('(', 1)[0])           # Remove all characters after a parenthesis\n",
    "    c = c.apply(lambda x: getFirstAndLastWords(str(x)))\n",
    "    c = c.apply(lambda x: getFirstNameInitial(str(x)))\n",
    "    c = c.apply(lambda x: str(x).replace('N None', ''))\n",
    "    c = pd.DataFrame(c)\n",
    "    #res = res.assign(i = c)\n",
    "    #c = c.drop_duplicates()\n",
    "    \n",
    "    return c"
   ]
  },
  {
   "cell_type": "code",
   "execution_count": 322,
   "metadata": {},
   "outputs": [],
   "source": [
    "c0 = pipeAuthClean0(auth_col_split)\n",
    "c1 = pipeAuthClean1(auth_col_split)\n",
    "c2 = pipeAuthClean2(auth_col_split)\n",
    "c3 = pipeAuthClean3(auth_col_split)\n",
    "c4 = pipeAuthClean4(auth_col_split)\n",
    "c5 = pipeAuthClean5(auth_col_split)\n",
    "c6 = pipeAuthClean6(auth_col_split)\n",
    "c7 = pipeAuthClean7(auth_col_split)"
   ]
  },
  {
   "cell_type": "code",
   "execution_count": 344,
   "metadata": {},
   "outputs": [],
   "source": [
    "clean_auth = pd.concat([c0,c1, c2, c3, c4, c5, c6 ,c7],axis=1)\n",
    "colnames = ['Author 1', 'Author 2','Author 3', 'Author 4', 'Author 5', 'Author 6', 'Author 7', 'Author 8']\n",
    "clean_auth.columns = colnames"
   ]
  },
  {
   "cell_type": "code",
   "execution_count": 352,
   "metadata": {},
   "outputs": [],
   "source": [
    "clean_auth['combined'] = clean_auth[colnames].apply(lambda row: ', '.join(row.values.astype(str)), axis=1)\n",
    "clean_auth['combined'] = clean_auth['combined'].apply(lambda x: x.split(', ,', 1)[0]) \n",
    "end = clean_auth['combined']"
   ]
  },
  {
   "cell_type": "code",
   "execution_count": 353,
   "metadata": {},
   "outputs": [
    {
     "data": {
      "text/plain": [
       "0                           P Aspinwall\n",
       "1                M Cvetic, H Lu, C Pope\n",
       "2                       Y Myung, G Kang\n",
       "3                              A Helfer\n",
       "4                 J Fuchs, C Schweigert\n",
       "                      ...              \n",
       "27765                A Shirzad, F Loran\n",
       "27766                         D Kreimer\n",
       "27767             O Kenneth, S Nussinov\n",
       "27768    F Delduc, E Ivanov, S Krivonos\n",
       "27769                        L Cornalba\n",
       "Name: combined, Length: 27770, dtype: object"
      ]
     },
     "execution_count": 353,
     "metadata": {},
     "output_type": "execute_result"
    }
   ],
   "source": [
    "end"
   ]
  },
  {
   "cell_type": "code",
   "execution_count": 373,
   "metadata": {},
   "outputs": [],
   "source": [
    "# Separate authors in different columns\n",
    "\n",
    "split_auth = end.str.split(\", \",expand=True,)\n",
    "\n",
    "# Merge all authors in one column\n",
    "\n",
    "auth_list = pd.DataFrame(split_auth.stack().tolist()).drop_duplicates().dropna()[0].tolist()"
   ]
  },
  {
   "cell_type": "code",
   "execution_count": 381,
   "metadata": {},
   "outputs": [
    {
     "name": "stdout",
     "output_type": "stream",
     "text": [
      "C Johnson\n",
      "P Johnson\n",
      "S Johnson\n",
      "K Johnson\n",
      "M Johnson\n"
     ]
    }
   ],
   "source": [
    "# Test: print all rows containing substring 'sub'\n",
    "\n",
    "sub= 'Johnson'\n",
    "print(\"\\n\".join(s for s in auth_list if sub in s))"
   ]
  },
  {
   "cell_type": "code",
   "execution_count": 380,
   "metadata": {},
   "outputs": [
    {
     "data": {
      "text/plain": [
       "[('C Johnson', 95),\n",
       " ('P Johnson', 95),\n",
       " ('S Johnson', 95),\n",
       " ('K Johnson', 95),\n",
       " ('M Johnson', 95)]"
      ]
     },
     "execution_count": 380,
     "metadata": {},
     "output_type": "execute_result"
    }
   ],
   "source": [
    "process.extract(\"Johnson\", auth_list, limit=5)"
   ]
  },
  {
   "cell_type": "code",
   "execution_count": 382,
   "metadata": {},
   "outputs": [
    {
     "data": {
      "text/plain": [
       "0                           P Aspinwall\n",
       "1                M Cvetic, H Lu, C Pope\n",
       "2                       Y Myung, G Kang\n",
       "3                              A Helfer\n",
       "4                 J Fuchs, C Schweigert\n",
       "                      ...              \n",
       "27765                A Shirzad, F Loran\n",
       "27766                         D Kreimer\n",
       "27767             O Kenneth, S Nussinov\n",
       "27768    F Delduc, E Ivanov, S Krivonos\n",
       "27769                        L Cornalba\n",
       "Name: combined, Length: 27770, dtype: object"
      ]
     },
     "execution_count": 382,
     "metadata": {},
     "output_type": "execute_result"
    }
   ],
   "source": [
    "end"
   ]
  },
  {
   "cell_type": "code",
   "execution_count": 424,
   "metadata": {},
   "outputs": [],
   "source": [
    "checkpoint2 = pd.concat([net, end], axis=1)\n",
    "checkpoint2 = checkpoint2.drop(['author'], axis=1)\n",
    "checkpoint2 = checkpoint2.rename(columns = {'combined':'author'})\n",
    "checkpoint2 = checkpoint2.reset_index()"
   ]
  },
  {
   "cell_type": "code",
   "execution_count": 426,
   "metadata": {},
   "outputs": [],
   "source": [
    "checkpoint2.to_csv('checkpoint2.csv')"
   ]
  },
  {
   "cell_type": "code",
   "execution_count": 425,
   "metadata": {},
   "outputs": [
    {
     "data": {
      "text/html": [
       "<div>\n",
       "<style scoped>\n",
       "    .dataframe tbody tr th:only-of-type {\n",
       "        vertical-align: middle;\n",
       "    }\n",
       "\n",
       "    .dataframe tbody tr th {\n",
       "        vertical-align: top;\n",
       "    }\n",
       "\n",
       "    .dataframe thead th {\n",
       "        text-align: right;\n",
       "    }\n",
       "</style>\n",
       "<table border=\"1\" class=\"dataframe\">\n",
       "  <thead>\n",
       "    <tr style=\"text-align: right;\">\n",
       "      <th></th>\n",
       "      <th>id</th>\n",
       "      <th>index</th>\n",
       "      <th>Unnamed: 0</th>\n",
       "      <th>year</th>\n",
       "      <th>title</th>\n",
       "      <th>journal</th>\n",
       "      <th>abstract</th>\n",
       "      <th>abstract_reduced</th>\n",
       "      <th>title_reduced</th>\n",
       "      <th>abstit_reduced</th>\n",
       "      <th>author</th>\n",
       "    </tr>\n",
       "  </thead>\n",
       "  <tbody>\n",
       "    <tr>\n",
       "      <th>0</th>\n",
       "      <td>1001</td>\n",
       "      <td>0</td>\n",
       "      <td>0</td>\n",
       "      <td>2000</td>\n",
       "      <td>compactification geometry and duality</td>\n",
       "      <td>NaN</td>\n",
       "      <td>these are notes based on lectures given at tas...</td>\n",
       "      <td>tasi99 geometry moduli space n point view comp...</td>\n",
       "      <td>compactification geometry duality</td>\n",
       "      <td>tasi99 geometry moduli space n point view comp...</td>\n",
       "      <td>P Aspinwall</td>\n",
       "    </tr>\n",
       "    <tr>\n",
       "      <th>1</th>\n",
       "      <td>1002</td>\n",
       "      <td>1</td>\n",
       "      <td>1</td>\n",
       "      <td>2000</td>\n",
       "      <td>domain walls and massive gauged supergravity p...</td>\n",
       "      <td>Class.Quant.Grav.</td>\n",
       "      <td>we point out that massive gauged supergravity ...</td>\n",
       "      <td>massive supergravity example due massive breat...</td>\n",
       "      <td>domain massive supergravity</td>\n",
       "      <td>massive supergravity example due massive breat...</td>\n",
       "      <td>M Cvetic, H Lu, C Pope</td>\n",
       "    </tr>\n",
       "    <tr>\n",
       "      <th>2</th>\n",
       "      <td>1003</td>\n",
       "      <td>2</td>\n",
       "      <td>2</td>\n",
       "      <td>2000</td>\n",
       "      <td>comment on metric fluctuations in brane worlds</td>\n",
       "      <td>NaN</td>\n",
       "      <td>recently ivanov and volovich hep-th 9912242 cl...</td>\n",
       "      <td>ivanov volovich hep-th perturbation h mu nu no...</td>\n",
       "      <td>comment metric brane</td>\n",
       "      <td>ivanov volovich hep-th perturbation h mu nu no...</td>\n",
       "      <td>Y Myung, G Kang</td>\n",
       "    </tr>\n",
       "    <tr>\n",
       "      <th>3</th>\n",
       "      <td>1004</td>\n",
       "      <td>3</td>\n",
       "      <td>3</td>\n",
       "      <td>2000</td>\n",
       "      <td>moving mirrors and thermodynamic paradoxes</td>\n",
       "      <td>Phys.Rev.</td>\n",
       "      <td>quantum fields responding to moving mirrors ha...</td>\n",
       "      <td>quantum rise assumption such work mirror exter...</td>\n",
       "      <td>thermodynamic</td>\n",
       "      <td>quantum rise assumption such work mirror exter...</td>\n",
       "      <td>A Helfer</td>\n",
       "    </tr>\n",
       "    <tr>\n",
       "      <th>4</th>\n",
       "      <td>1005</td>\n",
       "      <td>4</td>\n",
       "      <td>4</td>\n",
       "      <td>2000</td>\n",
       "      <td>bundles of chiral blocks and boundary conditio...</td>\n",
       "      <td>NaN</td>\n",
       "      <td>proceedings of lie iii clausthal july 1999 var...</td>\n",
       "      <td>lie iii clausthal july various chiral particul...</td>\n",
       "      <td>chiral boundary cft</td>\n",
       "      <td>lie iii clausthal july various chiral particul...</td>\n",
       "      <td>J Fuchs, C Schweigert</td>\n",
       "    </tr>\n",
       "    <tr>\n",
       "      <th>...</th>\n",
       "      <td>...</td>\n",
       "      <td>...</td>\n",
       "      <td>...</td>\n",
       "      <td>...</td>\n",
       "      <td>...</td>\n",
       "      <td>...</td>\n",
       "      <td>...</td>\n",
       "      <td>...</td>\n",
       "      <td>...</td>\n",
       "      <td>...</td>\n",
       "      <td>...</td>\n",
       "    </tr>\n",
       "    <tr>\n",
       "      <th>27765</th>\n",
       "      <td>9912289</td>\n",
       "      <td>27765</td>\n",
       "      <td>27765</td>\n",
       "      <td>2002</td>\n",
       "      <td>gauge fixing in the chain by chain method</td>\n",
       "      <td>NaN</td>\n",
       "      <td>in a recent work we showed that for a hamilton...</td>\n",
       "      <td>recent work hamiltonian system set first secon...</td>\n",
       "      <td>gauge fixing chain chain method</td>\n",
       "      <td>recent work hamiltonian system set first secon...</td>\n",
       "      <td>A Shirzad, F Loran</td>\n",
       "    </tr>\n",
       "    <tr>\n",
       "      <th>27766</th>\n",
       "      <td>9912290</td>\n",
       "      <td>27766</td>\n",
       "      <td>27766</td>\n",
       "      <td>2000</td>\n",
       "      <td>shuffling quantum field theory</td>\n",
       "      <td>Lett.Math.Phys.</td>\n",
       "      <td>we discuss shuffle identities between feynman ...</td>\n",
       "      <td>shuffle feynman graphs hopf algebra structure ...</td>\n",
       "      <td>quantum field theory</td>\n",
       "      <td>shuffle feynman graphs hopf algebra structure ...</td>\n",
       "      <td>D Kreimer</td>\n",
       "    </tr>\n",
       "    <tr>\n",
       "      <th>27767</th>\n",
       "      <td>9912291</td>\n",
       "      <td>27767</td>\n",
       "      <td>27767</td>\n",
       "      <td>1999</td>\n",
       "      <td>small object limit of casimir effect and the s...</td>\n",
       "      <td>Phys.Rev.</td>\n",
       "      <td>we show a simple way of deriving the casimir p...</td>\n",
       "      <td>simple way casimir polder interaction general ...</td>\n",
       "      <td>small object limit casimir effect sign casimir...</td>\n",
       "      <td>simple way casimir polder interaction general ...</td>\n",
       "      <td>O Kenneth, S Nussinov</td>\n",
       "    </tr>\n",
       "    <tr>\n",
       "      <th>27768</th>\n",
       "      <td>9912292</td>\n",
       "      <td>27768</td>\n",
       "      <td>27768</td>\n",
       "      <td>1999</td>\n",
       "      <td>1 4 pbgs and superparticle actions</td>\n",
       "      <td>NaN</td>\n",
       "      <td>karpacz poland september 21-25 1999 we constru...</td>\n",
       "      <td>karpacz poland 21-25 worldline massive superpa...</td>\n",
       "      <td>pbgs superparticle</td>\n",
       "      <td>karpacz poland 21-25 worldline massive superpa...</td>\n",
       "      <td>F Delduc, E Ivanov, S Krivonos</td>\n",
       "    </tr>\n",
       "    <tr>\n",
       "      <th>27769</th>\n",
       "      <td>9912293</td>\n",
       "      <td>27769</td>\n",
       "      <td>27769</td>\n",
       "      <td>2000</td>\n",
       "      <td>corrections to the abelian born-infeld action ...</td>\n",
       "      <td>JHEP</td>\n",
       "      <td>noncommutative geometry in a recent paper seib...</td>\n",
       "      <td>noncommutative geometry recent paper seiberg f...</td>\n",
       "      <td>abelian born-infeld action</td>\n",
       "      <td>noncommutative geometry recent paper seiberg f...</td>\n",
       "      <td>L Cornalba</td>\n",
       "    </tr>\n",
       "  </tbody>\n",
       "</table>\n",
       "<p>27770 rows × 11 columns</p>\n",
       "</div>"
      ],
      "text/plain": [
       "            id  index  Unnamed: 0  year  \\\n",
       "0         1001      0           0  2000   \n",
       "1         1002      1           1  2000   \n",
       "2         1003      2           2  2000   \n",
       "3         1004      3           3  2000   \n",
       "4         1005      4           4  2000   \n",
       "...        ...    ...         ...   ...   \n",
       "27765  9912289  27765       27765  2002   \n",
       "27766  9912290  27766       27766  2000   \n",
       "27767  9912291  27767       27767  1999   \n",
       "27768  9912292  27768       27768  1999   \n",
       "27769  9912293  27769       27769  2000   \n",
       "\n",
       "                                                   title            journal  \\\n",
       "0                  compactification geometry and duality                NaN   \n",
       "1      domain walls and massive gauged supergravity p...  Class.Quant.Grav.   \n",
       "2         comment on metric fluctuations in brane worlds                NaN   \n",
       "3             moving mirrors and thermodynamic paradoxes          Phys.Rev.   \n",
       "4      bundles of chiral blocks and boundary conditio...                NaN   \n",
       "...                                                  ...                ...   \n",
       "27765          gauge fixing in the chain by chain method                NaN   \n",
       "27766                     shuffling quantum field theory    Lett.Math.Phys.   \n",
       "27767  small object limit of casimir effect and the s...          Phys.Rev.   \n",
       "27768                 1 4 pbgs and superparticle actions                NaN   \n",
       "27769  corrections to the abelian born-infeld action ...               JHEP   \n",
       "\n",
       "                                                abstract  \\\n",
       "0      these are notes based on lectures given at tas...   \n",
       "1      we point out that massive gauged supergravity ...   \n",
       "2      recently ivanov and volovich hep-th 9912242 cl...   \n",
       "3      quantum fields responding to moving mirrors ha...   \n",
       "4      proceedings of lie iii clausthal july 1999 var...   \n",
       "...                                                  ...   \n",
       "27765  in a recent work we showed that for a hamilton...   \n",
       "27766  we discuss shuffle identities between feynman ...   \n",
       "27767  we show a simple way of deriving the casimir p...   \n",
       "27768  karpacz poland september 21-25 1999 we constru...   \n",
       "27769  noncommutative geometry in a recent paper seib...   \n",
       "\n",
       "                                        abstract_reduced  \\\n",
       "0      tasi99 geometry moduli space n point view comp...   \n",
       "1      massive supergravity example due massive breat...   \n",
       "2      ivanov volovich hep-th perturbation h mu nu no...   \n",
       "3      quantum rise assumption such work mirror exter...   \n",
       "4      lie iii clausthal july various chiral particul...   \n",
       "...                                                  ...   \n",
       "27765  recent work hamiltonian system set first secon...   \n",
       "27766  shuffle feynman graphs hopf algebra structure ...   \n",
       "27767  simple way casimir polder interaction general ...   \n",
       "27768  karpacz poland 21-25 worldline massive superpa...   \n",
       "27769  noncommutative geometry recent paper seiberg f...   \n",
       "\n",
       "                                           title_reduced  \\\n",
       "0                      compactification geometry duality   \n",
       "1                            domain massive supergravity   \n",
       "2                                   comment metric brane   \n",
       "3                                          thermodynamic   \n",
       "4                                    chiral boundary cft   \n",
       "...                                                  ...   \n",
       "27765                    gauge fixing chain chain method   \n",
       "27766                               quantum field theory   \n",
       "27767  small object limit casimir effect sign casimir...   \n",
       "27768                                 pbgs superparticle   \n",
       "27769                         abelian born-infeld action   \n",
       "\n",
       "                                          abstit_reduced  \\\n",
       "0      tasi99 geometry moduli space n point view comp...   \n",
       "1      massive supergravity example due massive breat...   \n",
       "2      ivanov volovich hep-th perturbation h mu nu no...   \n",
       "3      quantum rise assumption such work mirror exter...   \n",
       "4      lie iii clausthal july various chiral particul...   \n",
       "...                                                  ...   \n",
       "27765  recent work hamiltonian system set first secon...   \n",
       "27766  shuffle feynman graphs hopf algebra structure ...   \n",
       "27767  simple way casimir polder interaction general ...   \n",
       "27768  karpacz poland 21-25 worldline massive superpa...   \n",
       "27769  noncommutative geometry recent paper seiberg f...   \n",
       "\n",
       "                               author  \n",
       "0                         P Aspinwall  \n",
       "1              M Cvetic, H Lu, C Pope  \n",
       "2                     Y Myung, G Kang  \n",
       "3                            A Helfer  \n",
       "4               J Fuchs, C Schweigert  \n",
       "...                               ...  \n",
       "27765              A Shirzad, F Loran  \n",
       "27766                       D Kreimer  \n",
       "27767           O Kenneth, S Nussinov  \n",
       "27768  F Delduc, E Ivanov, S Krivonos  \n",
       "27769                      L Cornalba  \n",
       "\n",
       "[27770 rows x 11 columns]"
      ]
     },
     "execution_count": 425,
     "metadata": {},
     "output_type": "execute_result"
    }
   ],
   "source": [
    "checkpoint2"
   ]
  },
  {
   "cell_type": "markdown",
   "metadata": {},
   "source": [
    "### Cleaning of abstracts prior to doc2vec"
   ]
  },
  {
   "cell_type": "code",
   "execution_count": null,
   "metadata": {},
   "outputs": [],
   "source": []
  },
  {
   "cell_type": "markdown",
   "metadata": {},
   "source": [
    "# Feature Engineering"
   ]
  },
  {
   "cell_type": "markdown",
   "metadata": {},
   "source": [
    "## Doc2vec"
   ]
  },
  {
   "cell_type": "markdown",
   "metadata": {},
   "source": [
    "Embedding on title or abstract or both"
   ]
  },
  {
   "cell_type": "code",
   "execution_count": 54,
   "metadata": {},
   "outputs": [
    {
     "data": {
      "text/plain": [
       "'gluon pair production from space-time dependent chromofield'"
      ]
     },
     "execution_count": 54,
     "metadata": {},
     "output_type": "execute_result"
    }
   ],
   "source": [
    "# Print sample title\n",
    "\n",
    "sample = 8\n",
    "n_info['title'][sample]"
   ]
  },
  {
   "cell_type": "code",
   "execution_count": 81,
   "metadata": {},
   "outputs": [
    {
     "data": {
      "text/plain": [
       "'these are notes based on lectures given at tasi99 we review the geometry of the moduli space of n 2 theories in four dimensions from the point of view of superstring compactification the cases of a type iia or type iib string compactified on a calabi-yau threefold and the heterotic string compactified on k3xt2 are each considered in detail we pay specific attention to the differences between n 2 theories and n 2 theories the moduli spaces of vector multiplets and the moduli spaces of hypermultiplets are reviewed in the case of hypermultiplets this review is limited by the poor state of our current understanding some peculiarities such as mixed instantons and the non-existence of a universal hypermultiplet are discussed'"
      ]
     },
     "execution_count": 81,
     "metadata": {},
     "output_type": "execute_result"
    }
   ],
   "source": [
    "# Print sample title\n",
    "\n",
    "sample = 0\n",
    "n_info['abstract'][sample]"
   ]
  },
  {
   "cell_type": "markdown",
   "metadata": {},
   "source": [
    "- Observation: \n",
    "\n",
    "Even after basic text cleaning (stopwords, lemmas), it seems that co-occuring verbs (ex: compute) and adjectives (ex: different, important) will biase the embedding. However, some adjectives are informative (ex: non-abelian)."
   ]
  },
  {
   "cell_type": "markdown",
   "metadata": {},
   "source": [
    "### Extracting nouns and adjectives from each abstract"
   ]
  },
  {
   "cell_type": "code",
   "execution_count": 83,
   "metadata": {},
   "outputs": [],
   "source": [
    "# Extract word if noun or proper noun or adjective\n",
    "\n",
    "def get_adjnoun(text):\n",
    "    blob = TextBlob(text)\n",
    "    return [ word for (word,tag) in blob.tags if (tag == \"JJ\" or tag==\"NN\" or tag==\"NNP\")]"
   ]
  },
  {
   "cell_type": "code",
   "execution_count": 93,
   "metadata": {},
   "outputs": [],
   "source": [
    "n_info['abstract_reduced'] = n_info['abstract'].apply(get_adjnoun)"
   ]
  },
  {
   "cell_type": "code",
   "execution_count": 99,
   "metadata": {},
   "outputs": [],
   "source": [
    "n_info['title_reduced'] = n_info['title'].apply(get_adjnoun)"
   ]
  },
  {
   "cell_type": "code",
   "execution_count": 102,
   "metadata": {},
   "outputs": [],
   "source": [
    "# To string\n",
    "\n",
    "n_info['abstract_reduced']= n_info['abstract_reduced'].apply(lambda x: ' '.join(x))\n",
    "n_info['title_reduced'] = n_info['title_reduced'].apply(lambda x: ' '.join(x))"
   ]
  },
  {
   "cell_type": "code",
   "execution_count": 103,
   "metadata": {},
   "outputs": [],
   "source": [
    "# Join title and abstract\n",
    "\n",
    "n_info['abstit_reduced'] = n_info[['abstract_reduced', 'title_reduced']].apply(lambda x: ''.join(x), axis=1)"
   ]
  },
  {
   "cell_type": "markdown",
   "metadata": {},
   "source": [
    "Checkpoint"
   ]
  },
  {
   "cell_type": "code",
   "execution_count": 105,
   "metadata": {},
   "outputs": [],
   "source": [
    "n_info.to_csv('checkpoint1.csv')"
   ]
  },
  {
   "cell_type": "code",
   "execution_count": 106,
   "metadata": {},
   "outputs": [
    {
     "name": "stdout",
     "output_type": "stream",
     "text": [
      "Number of texts processed:  27770\n"
     ]
    }
   ],
   "source": [
    "LabeledSentence1 = gensim.models.doc2vec.TaggedDocument\n",
    "all_content_train = []\n",
    "j=0\n",
    "for em in n_info['abstit_reduced'].values:\n",
    "    all_content_train.append(LabeledSentence1(em,[j]))\n",
    "    j+=1\n",
    "print(\"Number of texts processed: \", j)"
   ]
  },
  {
   "cell_type": "code",
   "execution_count": 107,
   "metadata": {},
   "outputs": [
    {
     "name": "stderr",
     "output_type": "stream",
     "text": [
      "/opt/anaconda3/lib/python3.7/site-packages/gensim/models/doc2vec.py:574: UserWarning: The parameter `size` is deprecated, will be removed in 4.0.0, use `vector_size` instead.\n",
      "  warnings.warn(\"The parameter `size` is deprecated, will be removed in 4.0.0, use `vector_size` instead.\")\n"
     ]
    }
   ],
   "source": [
    "d2v_model = Doc2Vec(all_content_train, size = 100, window = 1, min_count = 2, workers=-1) #, dm = 1,alpha=0.025, min_alpha=0.001)\n",
    "d2v_model.train(all_content_train, total_examples=d2v_model.corpus_count, epochs=20) #,start_alpha=0.002, #end_alpha=-0.016)"
   ]
  },
  {
   "cell_type": "code",
   "execution_count": 108,
   "metadata": {},
   "outputs": [
    {
     "name": "stderr",
     "output_type": "stream",
     "text": [
      "/opt/anaconda3/lib/python3.7/site-packages/ipykernel_launcher.py:2: DeprecationWarning: Call to deprecated `doctag_syn0` (Attribute will be removed in 4.0.0, use docvecs.vectors_docs instead).\n",
      "  \n",
      "/opt/anaconda3/lib/python3.7/site-packages/ipykernel_launcher.py:4: DeprecationWarning: Call to deprecated `doctag_syn0` (Attribute will be removed in 4.0.0, use docvecs.vectors_docs instead).\n",
      "  after removing the cwd from sys.path.\n",
      "/opt/anaconda3/lib/python3.7/site-packages/ipykernel_launcher.py:5: DeprecationWarning: Call to deprecated `doctag_syn0` (Attribute will be removed in 4.0.0, use docvecs.vectors_docs instead).\n",
      "  \"\"\"\n",
      "/opt/anaconda3/lib/python3.7/site-packages/ipykernel_launcher.py:6: DeprecationWarning: Call to deprecated `doctag_syn0` (Attribute will be removed in 4.0.0, use docvecs.vectors_docs instead).\n",
      "  \n"
     ]
    },
    {
     "data": {
      "image/png": "[encoded data removed]",
      "text/plain": [
       "<Figure size 432x288 with 1 Axes>"
      ]
     },
     "metadata": {
      "needs_background": "light"
     },
     "output_type": "display_data"
    }
   ],
   "source": [
    "kmeans_model = KMeans(n_clusters=10, init='k-means++', max_iter=100) \n",
    "X = kmeans_model.fit(d2v_model.docvecs.doctag_syn0)\n",
    "labels=kmeans_model.labels_.tolist()\n",
    "l = kmeans_model.fit_predict(d2v_model.docvecs.doctag_syn0)\n",
    "pca = PCA(n_components=2).fit(d2v_model.docvecs.doctag_syn0)\n",
    "datapoint = pca.transform(d2v_model.docvecs.doctag_syn0)\n",
    "import matplotlib.pyplot as plt\n",
    "%matplotlib inline\n",
    "plt.figure\n",
    "label1 = ['#FFFF00', '#800000', '#FFFF00', '#808000','#00FF00','#008000','#00FFFF','#008080','#0000FF','#000080']\n",
    "color = [label1[i] for i in labels]\n",
    "plt.scatter(datapoint[:, 0], datapoint[:, 1], c=color)\n",
    "centroids = kmeans_model.cluster_centers_\n",
    "centroidpoint = pca.transform(centroids)\n",
    "plt.scatter(centroidpoint[:, 0], centroidpoint[:, 1], marker='^', s=150, c='#000000')\n",
    "plt.show()"
   ]
  },
  {
   "cell_type": "code",
   "execution_count": 399,
   "metadata": {},
   "outputs": [],
   "source": [
    "n = pd.read_csv('node_information.csv')"
   ]
  },
  {
   "cell_type": "code",
   "execution_count": 400,
   "metadata": {},
   "outputs": [
    {
     "data": {
      "text/html": [
       "<div>\n",
       "<style scoped>\n",
       "    .dataframe tbody tr th:only-of-type {\n",
       "        vertical-align: middle;\n",
       "    }\n",
       "\n",
       "    .dataframe tbody tr th {\n",
       "        vertical-align: top;\n",
       "    }\n",
       "\n",
       "    .dataframe thead th {\n",
       "        text-align: right;\n",
       "    }\n",
       "</style>\n",
       "<table border=\"1\" class=\"dataframe\">\n",
       "  <thead>\n",
       "    <tr style=\"text-align: right;\">\n",
       "      <th></th>\n",
       "      <th>1001</th>\n",
       "      <th>2000</th>\n",
       "      <th>compactification geometry and duality</th>\n",
       "      <th>Paul S. Aspinwall</th>\n",
       "      <th>Unnamed: 4</th>\n",
       "      <th>these are notes based on lectures given at tasi99 we review the geometry of the moduli space of n 2 theories in four dimensions from the point of view of superstring compactification the cases of a type iia or type iib string compactified on a calabi-yau threefold and the heterotic string compactified on k3xt2 are each considered in detail we pay specific attention to the differences between n 2 theories and n 2 theories the moduli spaces of vector multiplets and the moduli spaces of hypermultiplets are reviewed in the case of hypermultiplets this review is limited by the poor state of our current understanding some peculiarities such as mixed instantons and the non-existence of a universal hypermultiplet are discussed</th>\n",
       "    </tr>\n",
       "  </thead>\n",
       "  <tbody>\n",
       "    <tr>\n",
       "      <th>0</th>\n",
       "      <td>1002</td>\n",
       "      <td>2000</td>\n",
       "      <td>domain walls and massive gauged supergravity p...</td>\n",
       "      <td>M. Cvetic, H. Lu, C.N. Pope</td>\n",
       "      <td>Class.Quant.Grav.</td>\n",
       "      <td>we point out that massive gauged supergravity ...</td>\n",
       "    </tr>\n",
       "    <tr>\n",
       "      <th>1</th>\n",
       "      <td>1003</td>\n",
       "      <td>2000</td>\n",
       "      <td>comment on metric fluctuations in brane worlds</td>\n",
       "      <td>Y.S. Myung, Gungwon Kang</td>\n",
       "      <td>NaN</td>\n",
       "      <td>recently ivanov and volovich hep-th 9912242 cl...</td>\n",
       "    </tr>\n",
       "    <tr>\n",
       "      <th>2</th>\n",
       "      <td>1004</td>\n",
       "      <td>2000</td>\n",
       "      <td>moving mirrors and thermodynamic paradoxes</td>\n",
       "      <td>Adam D. Helfer</td>\n",
       "      <td>Phys.Rev.</td>\n",
       "      <td>quantum fields responding to moving mirrors ha...</td>\n",
       "    </tr>\n",
       "    <tr>\n",
       "      <th>3</th>\n",
       "      <td>1005</td>\n",
       "      <td>2000</td>\n",
       "      <td>bundles of chiral blocks and boundary conditio...</td>\n",
       "      <td>J. Fuchs, C. Schweigert</td>\n",
       "      <td>NaN</td>\n",
       "      <td>proceedings of lie iii clausthal july 1999 var...</td>\n",
       "    </tr>\n",
       "    <tr>\n",
       "      <th>4</th>\n",
       "      <td>1006</td>\n",
       "      <td>2000</td>\n",
       "      <td>questions in quantum physics</td>\n",
       "      <td>Rudolf Haag</td>\n",
       "      <td>NaN</td>\n",
       "      <td>an assessment of the present status of the the...</td>\n",
       "    </tr>\n",
       "  </tbody>\n",
       "</table>\n",
       "</div>"
      ],
      "text/plain": [
       "   1001  2000              compactification geometry and duality  \\\n",
       "0  1002  2000  domain walls and massive gauged supergravity p...   \n",
       "1  1003  2000     comment on metric fluctuations in brane worlds   \n",
       "2  1004  2000         moving mirrors and thermodynamic paradoxes   \n",
       "3  1005  2000  bundles of chiral blocks and boundary conditio...   \n",
       "4  1006  2000                       questions in quantum physics   \n",
       "\n",
       "             Paul S. Aspinwall         Unnamed: 4  \\\n",
       "0  M. Cvetic, H. Lu, C.N. Pope  Class.Quant.Grav.   \n",
       "1     Y.S. Myung, Gungwon Kang                NaN   \n",
       "2               Adam D. Helfer          Phys.Rev.   \n",
       "3      J. Fuchs, C. Schweigert                NaN   \n",
       "4                  Rudolf Haag                NaN   \n",
       "\n",
       "  these are notes based on lectures given at tasi99 we review the geometry of the moduli space of n 2 theories in four dimensions from the point of view of superstring compactification the cases of a type iia or type iib string compactified on a calabi-yau threefold and the heterotic string compactified on k3xt2 are each considered in detail we pay specific attention to the differences between n 2 theories and n 2 theories the moduli spaces of vector multiplets and the moduli spaces of hypermultiplets are reviewed in the case of hypermultiplets this review is limited by the poor state of our current understanding some peculiarities such as mixed instantons and the non-existence of a universal hypermultiplet are discussed  \n",
       "0  we point out that massive gauged supergravity ...                                                                                                                                                                                                                                                                                                                                                                                                                                                                                                                                                                                                                                                                                                        \n",
       "1  recently ivanov and volovich hep-th 9912242 cl...                                                                                                                                                                                                                                                                                                                                                                                                                                                                                                                                                                                                                                                                                                        \n",
       "2  quantum fields responding to moving mirrors ha...                                                                                                                                                                                                                                                                                                                                                                                                                                                                                                                                                                                                                                                                                                        \n",
       "3  proceedings of lie iii clausthal july 1999 var...                                                                                                                                                                                                                                                                                                                                                                                                                                                                                                                                                                                                                                                                                                        \n",
       "4  an assessment of the present status of the the...                                                                                                                                                                                                                                                                                                                                                                                                                                                                                                                                                                                                                                                                                                        "
      ]
     },
     "execution_count": 400,
     "metadata": {},
     "output_type": "execute_result"
    }
   ],
   "source": [
    "n.head()"
   ]
  },
  {
   "cell_type": "code",
   "execution_count": 398,
   "metadata": {},
   "outputs": [
    {
     "data": {
      "text/html": [
       "<div>\n",
       "<style scoped>\n",
       "    .dataframe tbody tr th:only-of-type {\n",
       "        vertical-align: middle;\n",
       "    }\n",
       "\n",
       "    .dataframe tbody tr th {\n",
       "        vertical-align: top;\n",
       "    }\n",
       "\n",
       "    .dataframe thead th {\n",
       "        text-align: right;\n",
       "    }\n",
       "</style>\n",
       "<table border=\"1\" class=\"dataframe\">\n",
       "  <thead>\n",
       "    <tr style=\"text-align: right;\">\n",
       "      <th></th>\n",
       "      <th>Unnamed: 0</th>\n",
       "      <th>id</th>\n",
       "      <th>year</th>\n",
       "      <th>title</th>\n",
       "      <th>author</th>\n",
       "      <th>journal</th>\n",
       "      <th>abstract</th>\n",
       "      <th>abstract_reduced</th>\n",
       "      <th>title_reduced</th>\n",
       "      <th>abstit_reduced</th>\n",
       "    </tr>\n",
       "  </thead>\n",
       "  <tbody>\n",
       "    <tr>\n",
       "      <th>0</th>\n",
       "      <td>0</td>\n",
       "      <td>1001</td>\n",
       "      <td>2000</td>\n",
       "      <td>compactification geometry and duality</td>\n",
       "      <td>Paul S. Aspinwall</td>\n",
       "      <td>NaN</td>\n",
       "      <td>these are notes based on lectures given at tas...</td>\n",
       "      <td>tasi99 geometry moduli space n point view comp...</td>\n",
       "      <td>compactification geometry duality</td>\n",
       "      <td>tasi99 geometry moduli space n point view comp...</td>\n",
       "    </tr>\n",
       "    <tr>\n",
       "      <th>1</th>\n",
       "      <td>1</td>\n",
       "      <td>1002</td>\n",
       "      <td>2000</td>\n",
       "      <td>domain walls and massive gauged supergravity p...</td>\n",
       "      <td>M. Cvetic, H. Lu, C.N. Pope</td>\n",
       "      <td>Class.Quant.Grav.</td>\n",
       "      <td>we point out that massive gauged supergravity ...</td>\n",
       "      <td>massive supergravity example due massive breat...</td>\n",
       "      <td>domain massive supergravity</td>\n",
       "      <td>massive supergravity example due massive breat...</td>\n",
       "    </tr>\n",
       "    <tr>\n",
       "      <th>2</th>\n",
       "      <td>2</td>\n",
       "      <td>1003</td>\n",
       "      <td>2000</td>\n",
       "      <td>comment on metric fluctuations in brane worlds</td>\n",
       "      <td>Y.S. Myung, Gungwon Kang</td>\n",
       "      <td>NaN</td>\n",
       "      <td>recently ivanov and volovich hep-th 9912242 cl...</td>\n",
       "      <td>ivanov volovich hep-th perturbation h mu nu no...</td>\n",
       "      <td>comment metric brane</td>\n",
       "      <td>ivanov volovich hep-th perturbation h mu nu no...</td>\n",
       "    </tr>\n",
       "    <tr>\n",
       "      <th>3</th>\n",
       "      <td>3</td>\n",
       "      <td>1004</td>\n",
       "      <td>2000</td>\n",
       "      <td>moving mirrors and thermodynamic paradoxes</td>\n",
       "      <td>Adam D. Helfer</td>\n",
       "      <td>Phys.Rev.</td>\n",
       "      <td>quantum fields responding to moving mirrors ha...</td>\n",
       "      <td>quantum rise assumption such work mirror exter...</td>\n",
       "      <td>thermodynamic</td>\n",
       "      <td>quantum rise assumption such work mirror exter...</td>\n",
       "    </tr>\n",
       "    <tr>\n",
       "      <th>4</th>\n",
       "      <td>4</td>\n",
       "      <td>1005</td>\n",
       "      <td>2000</td>\n",
       "      <td>bundles of chiral blocks and boundary conditio...</td>\n",
       "      <td>J. Fuchs, C. Schweigert</td>\n",
       "      <td>NaN</td>\n",
       "      <td>proceedings of lie iii clausthal july 1999 var...</td>\n",
       "      <td>lie iii clausthal july various chiral particul...</td>\n",
       "      <td>chiral boundary cft</td>\n",
       "      <td>lie iii clausthal july various chiral particul...</td>\n",
       "    </tr>\n",
       "    <tr>\n",
       "      <th>...</th>\n",
       "      <td>...</td>\n",
       "      <td>...</td>\n",
       "      <td>...</td>\n",
       "      <td>...</td>\n",
       "      <td>...</td>\n",
       "      <td>...</td>\n",
       "      <td>...</td>\n",
       "      <td>...</td>\n",
       "      <td>...</td>\n",
       "      <td>...</td>\n",
       "    </tr>\n",
       "    <tr>\n",
       "      <th>27765</th>\n",
       "      <td>27765</td>\n",
       "      <td>9912289</td>\n",
       "      <td>2002</td>\n",
       "      <td>gauge fixing in the chain by chain method</td>\n",
       "      <td>A Shirzad, F Loran</td>\n",
       "      <td>NaN</td>\n",
       "      <td>in a recent work we showed that for a hamilton...</td>\n",
       "      <td>recent work hamiltonian system set first secon...</td>\n",
       "      <td>gauge fixing chain chain method</td>\n",
       "      <td>recent work hamiltonian system set first secon...</td>\n",
       "    </tr>\n",
       "    <tr>\n",
       "      <th>27766</th>\n",
       "      <td>27766</td>\n",
       "      <td>9912290</td>\n",
       "      <td>2000</td>\n",
       "      <td>shuffling quantum field theory</td>\n",
       "      <td>Dirk Kreimer</td>\n",
       "      <td>Lett.Math.Phys.</td>\n",
       "      <td>we discuss shuffle identities between feynman ...</td>\n",
       "      <td>shuffle feynman graphs hopf algebra structure ...</td>\n",
       "      <td>quantum field theory</td>\n",
       "      <td>shuffle feynman graphs hopf algebra structure ...</td>\n",
       "    </tr>\n",
       "    <tr>\n",
       "      <th>27767</th>\n",
       "      <td>27767</td>\n",
       "      <td>9912291</td>\n",
       "      <td>1999</td>\n",
       "      <td>small object limit of casimir effect and the s...</td>\n",
       "      <td>O. Kenneth, S. Nussinov</td>\n",
       "      <td>Phys.Rev.</td>\n",
       "      <td>we show a simple way of deriving the casimir p...</td>\n",
       "      <td>simple way casimir polder interaction general ...</td>\n",
       "      <td>small object limit casimir effect sign casimir...</td>\n",
       "      <td>simple way casimir polder interaction general ...</td>\n",
       "    </tr>\n",
       "    <tr>\n",
       "      <th>27768</th>\n",
       "      <td>27768</td>\n",
       "      <td>9912292</td>\n",
       "      <td>1999</td>\n",
       "      <td>1 4 pbgs and superparticle actions</td>\n",
       "      <td>F.Delduc, E. Ivanov, S. Krivonos</td>\n",
       "      <td>NaN</td>\n",
       "      <td>karpacz poland september 21-25 1999 we constru...</td>\n",
       "      <td>karpacz poland 21-25 worldline massive superpa...</td>\n",
       "      <td>pbgs superparticle</td>\n",
       "      <td>karpacz poland 21-25 worldline massive superpa...</td>\n",
       "    </tr>\n",
       "    <tr>\n",
       "      <th>27769</th>\n",
       "      <td>27769</td>\n",
       "      <td>9912293</td>\n",
       "      <td>2000</td>\n",
       "      <td>corrections to the abelian born-infeld action ...</td>\n",
       "      <td>L. Cornalba (I.H.E.S.)</td>\n",
       "      <td>JHEP</td>\n",
       "      <td>noncommutative geometry in a recent paper seib...</td>\n",
       "      <td>noncommutative geometry recent paper seiberg f...</td>\n",
       "      <td>abelian born-infeld action</td>\n",
       "      <td>noncommutative geometry recent paper seiberg f...</td>\n",
       "    </tr>\n",
       "  </tbody>\n",
       "</table>\n",
       "<p>27770 rows × 10 columns</p>\n",
       "</div>"
      ],
      "text/plain": [
       "       Unnamed: 0       id  year  \\\n",
       "0               0     1001  2000   \n",
       "1               1     1002  2000   \n",
       "2               2     1003  2000   \n",
       "3               3     1004  2000   \n",
       "4               4     1005  2000   \n",
       "...           ...      ...   ...   \n",
       "27765       27765  9912289  2002   \n",
       "27766       27766  9912290  2000   \n",
       "27767       27767  9912291  1999   \n",
       "27768       27768  9912292  1999   \n",
       "27769       27769  9912293  2000   \n",
       "\n",
       "                                                   title  \\\n",
       "0                  compactification geometry and duality   \n",
       "1      domain walls and massive gauged supergravity p...   \n",
       "2         comment on metric fluctuations in brane worlds   \n",
       "3             moving mirrors and thermodynamic paradoxes   \n",
       "4      bundles of chiral blocks and boundary conditio...   \n",
       "...                                                  ...   \n",
       "27765          gauge fixing in the chain by chain method   \n",
       "27766                     shuffling quantum field theory   \n",
       "27767  small object limit of casimir effect and the s...   \n",
       "27768                 1 4 pbgs and superparticle actions   \n",
       "27769  corrections to the abelian born-infeld action ...   \n",
       "\n",
       "                                 author            journal  \\\n",
       "0                     Paul S. Aspinwall                NaN   \n",
       "1           M. Cvetic, H. Lu, C.N. Pope  Class.Quant.Grav.   \n",
       "2              Y.S. Myung, Gungwon Kang                NaN   \n",
       "3                        Adam D. Helfer          Phys.Rev.   \n",
       "4               J. Fuchs, C. Schweigert                NaN   \n",
       "...                                 ...                ...   \n",
       "27765                A Shirzad, F Loran                NaN   \n",
       "27766                      Dirk Kreimer    Lett.Math.Phys.   \n",
       "27767           O. Kenneth, S. Nussinov          Phys.Rev.   \n",
       "27768  F.Delduc, E. Ivanov, S. Krivonos                NaN   \n",
       "27769            L. Cornalba (I.H.E.S.)               JHEP   \n",
       "\n",
       "                                                abstract  \\\n",
       "0      these are notes based on lectures given at tas...   \n",
       "1      we point out that massive gauged supergravity ...   \n",
       "2      recently ivanov and volovich hep-th 9912242 cl...   \n",
       "3      quantum fields responding to moving mirrors ha...   \n",
       "4      proceedings of lie iii clausthal july 1999 var...   \n",
       "...                                                  ...   \n",
       "27765  in a recent work we showed that for a hamilton...   \n",
       "27766  we discuss shuffle identities between feynman ...   \n",
       "27767  we show a simple way of deriving the casimir p...   \n",
       "27768  karpacz poland september 21-25 1999 we constru...   \n",
       "27769  noncommutative geometry in a recent paper seib...   \n",
       "\n",
       "                                        abstract_reduced  \\\n",
       "0      tasi99 geometry moduli space n point view comp...   \n",
       "1      massive supergravity example due massive breat...   \n",
       "2      ivanov volovich hep-th perturbation h mu nu no...   \n",
       "3      quantum rise assumption such work mirror exter...   \n",
       "4      lie iii clausthal july various chiral particul...   \n",
       "...                                                  ...   \n",
       "27765  recent work hamiltonian system set first secon...   \n",
       "27766  shuffle feynman graphs hopf algebra structure ...   \n",
       "27767  simple way casimir polder interaction general ...   \n",
       "27768  karpacz poland 21-25 worldline massive superpa...   \n",
       "27769  noncommutative geometry recent paper seiberg f...   \n",
       "\n",
       "                                           title_reduced  \\\n",
       "0                      compactification geometry duality   \n",
       "1                            domain massive supergravity   \n",
       "2                                   comment metric brane   \n",
       "3                                          thermodynamic   \n",
       "4                                    chiral boundary cft   \n",
       "...                                                  ...   \n",
       "27765                    gauge fixing chain chain method   \n",
       "27766                               quantum field theory   \n",
       "27767  small object limit casimir effect sign casimir...   \n",
       "27768                                 pbgs superparticle   \n",
       "27769                         abelian born-infeld action   \n",
       "\n",
       "                                          abstit_reduced  \n",
       "0      tasi99 geometry moduli space n point view comp...  \n",
       "1      massive supergravity example due massive breat...  \n",
       "2      ivanov volovich hep-th perturbation h mu nu no...  \n",
       "3      quantum rise assumption such work mirror exter...  \n",
       "4      lie iii clausthal july various chiral particul...  \n",
       "...                                                  ...  \n",
       "27765  recent work hamiltonian system set first secon...  \n",
       "27766  shuffle feynman graphs hopf algebra structure ...  \n",
       "27767  simple way casimir polder interaction general ...  \n",
       "27768  karpacz poland 21-25 worldline massive superpa...  \n",
       "27769  noncommutative geometry recent paper seiberg f...  \n",
       "\n",
       "[27770 rows x 10 columns]"
      ]
     },
     "execution_count": 398,
     "metadata": {},
     "output_type": "execute_result"
    }
   ],
   "source": [
    "net"
   ]
  },
  {
   "cell_type": "markdown",
   "metadata": {},
   "source": [
    "## Pairwise cosine similarity between source and target"
   ]
  },
  {
   "cell_type": "code",
   "execution_count": 455,
   "metadata": {},
   "outputs": [],
   "source": [
    "from sklearn.metrics.pairwise import cosine_similarity\n",
    "from sklearn.feature_extraction.text import CountVectorizer"
   ]
  },
  {
   "cell_type": "code",
   "execution_count": 501,
   "metadata": {},
   "outputs": [],
   "source": [
    "df_cos = node_info[['id','abstit_reduced']]"
   ]
  },
  {
   "cell_type": "code",
   "execution_count": 507,
   "metadata": {},
   "outputs": [
    {
     "data": {
      "text/plain": [
       "Int64Index([4], dtype='int64')"
      ]
     },
     "execution_count": 507,
     "metadata": {},
     "output_type": "execute_result"
    }
   ],
   "source": [
    "df_cos[df_cos['id']==1005].index"
   ]
  },
  {
   "cell_type": "code",
   "execution_count": 466,
   "metadata": {},
   "outputs": [],
   "source": [
    "text = df_cos.abstit_reduced.tolist()"
   ]
  },
  {
   "cell_type": "code",
   "execution_count": 677,
   "metadata": {},
   "outputs": [],
   "source": [
    "from collections import Counter\n",
    "from sklearn.feature_extraction.text import CountVectorizer\n",
    "from sklearn.feature_extraction.text import TfidfVectorizer\n",
    "from sklearn.metrics.pairwise import cosine_similarity\n",
    "def getCosineSim(t,vectors): \n",
    "    return cosine_similarity(vectors)\n",
    "    \n",
    "def getCountVectors(t):\n",
    "    vectorizer = CountVectorizer(t)\n",
    "    vectorizer.fit(t)\n",
    "    return vectorizer.transform(t).toarray()\n",
    "\n",
    "def getTFIDFVectors(t):\n",
    "    vectorizer = TfidfVectorizer(t)\n",
    "    return vectorizer.fit_transform(t)"
   ]
  },
  {
   "cell_type": "code",
   "execution_count": 678,
   "metadata": {},
   "outputs": [],
   "source": [
    "vectors = getTFIDFVectors(text)"
   ]
  },
  {
   "cell_type": "code",
   "execution_count": 473,
   "metadata": {},
   "outputs": [],
   "source": [
    "ivectors = getVectors(text)\n"
   ]
  },
  {
   "cell_type": "code",
   "execution_count": 679,
   "metadata": {},
   "outputs": [],
   "source": [
    "def pairwiseCosineSim(vec1, vec2):\n",
    "    vec1 = df_cos[df_cos['id']==vec1].index\n",
    "    vec2 = df_cos[df_cos['id']==vec2].index\n",
    "    vec1 = vectors[vec1]\n",
    "    vec2 = vectors[vec2]\n",
    "    vec1 = vec1.reshape(1,-1)\n",
    "    vec2 = vec2.reshape(1,-1)\n",
    "    return cosine_similarity(vec1, vec2)[0][0]"
   ]
  },
  {
   "cell_type": "code",
   "execution_count": 680,
   "metadata": {},
   "outputs": [
    {
     "data": {
      "text/plain": [
       "0.11735971067247217"
      ]
     },
     "execution_count": 680,
     "metadata": {},
     "output_type": "execute_result"
    }
   ],
   "source": [
    "pairwiseCosineSim(9901042, 9510135)"
   ]
  },
  {
   "cell_type": "code",
   "execution_count": 681,
   "metadata": {},
   "outputs": [],
   "source": [
    "def getCosineSimFromSet(s):\n",
    "    similarities = []\n",
    "    for i in range(len(s)):\n",
    "        res = pairwiseCosineSim(int(s[i][0]),int(s[i][1]))\n",
    "        similarities.append(res)\n",
    "    \n",
    "    return similarities"
   ]
  },
  {
   "cell_type": "code",
   "execution_count": 682,
   "metadata": {},
   "outputs": [
    {
     "data": {
      "text/plain": [
       "[['9510123', '9502114', '1'],\n",
       " ['9707075', '9604178', '1'],\n",
       " ['9312155', '9506142', '0'],\n",
       " ['9911255', '302165', '0'],\n",
       " ['9701033', '209076', '0'],\n",
       " ['9710020', '9709228', '1'],\n",
       " ['9901042', '9510135', '1'],\n",
       " ['209146', '9502077', '0'],\n",
       " ['9705079', '9702201', '1'],\n",
       " ['3016', '9207067', '0']]"
      ]
     },
     "execution_count": 682,
     "metadata": {},
     "output_type": "execute_result"
    }
   ],
   "source": [
    "red = training_set[:10]\n",
    "red"
   ]
  },
  {
   "cell_type": "code",
   "execution_count": 683,
   "metadata": {},
   "outputs": [
    {
     "data": {
      "text/plain": [
       "0.018897485774438928"
      ]
     },
     "execution_count": 683,
     "metadata": {},
     "output_type": "execute_result"
    }
   ],
   "source": [
    "pairwiseCosineSim(int(red[2][0]),int(red[2][1]))"
   ]
  },
  {
   "cell_type": "code",
   "execution_count": 684,
   "metadata": {},
   "outputs": [
    {
     "data": {
      "text/plain": [
       "615512"
      ]
     },
     "execution_count": 684,
     "metadata": {},
     "output_type": "execute_result"
    }
   ],
   "source": [
    "len(training_set)"
   ]
  },
  {
   "cell_type": "code",
   "execution_count": 699,
   "metadata": {},
   "outputs": [],
   "source": [
    "pl.to_csv('cosine_train.csv')"
   ]
  },
  {
   "cell_type": "code",
   "execution_count": 695,
   "metadata": {},
   "outputs": [],
   "source": [
    "cos_sim_training = getCosineSimFromSet(training_set)"
   ]
  },
  {
   "cell_type": "code",
   "execution_count": 697,
   "metadata": {},
   "outputs": [],
   "source": [
    "cs = pd.DataFrame(cos_sim_training)\n",
    "ts = pd.DataFrame(training_set)\n",
    "pl = pd.concat([ts,cs], axis=1)"
   ]
  },
  {
   "cell_type": "code",
   "execution_count": 698,
   "metadata": {},
   "outputs": [
    {
     "data": {
      "text/html": [
       "<div>\n",
       "<style scoped>\n",
       "    .dataframe tbody tr th:only-of-type {\n",
       "        vertical-align: middle;\n",
       "    }\n",
       "\n",
       "    .dataframe tbody tr th {\n",
       "        vertical-align: top;\n",
       "    }\n",
       "\n",
       "    .dataframe thead th {\n",
       "        text-align: right;\n",
       "    }\n",
       "</style>\n",
       "<table border=\"1\" class=\"dataframe\">\n",
       "  <thead>\n",
       "    <tr style=\"text-align: right;\">\n",
       "      <th></th>\n",
       "      <th>0</th>\n",
       "      <th>1</th>\n",
       "      <th>2</th>\n",
       "      <th>0</th>\n",
       "    </tr>\n",
       "  </thead>\n",
       "  <tbody>\n",
       "    <tr>\n",
       "      <th>0</th>\n",
       "      <td>9510123</td>\n",
       "      <td>9502114</td>\n",
       "      <td>1</td>\n",
       "      <td>0.253769</td>\n",
       "    </tr>\n",
       "    <tr>\n",
       "      <th>1</th>\n",
       "      <td>9707075</td>\n",
       "      <td>9604178</td>\n",
       "      <td>1</td>\n",
       "      <td>0.040928</td>\n",
       "    </tr>\n",
       "    <tr>\n",
       "      <th>2</th>\n",
       "      <td>9312155</td>\n",
       "      <td>9506142</td>\n",
       "      <td>0</td>\n",
       "      <td>0.018897</td>\n",
       "    </tr>\n",
       "    <tr>\n",
       "      <th>3</th>\n",
       "      <td>9911255</td>\n",
       "      <td>302165</td>\n",
       "      <td>0</td>\n",
       "      <td>0.011424</td>\n",
       "    </tr>\n",
       "    <tr>\n",
       "      <th>4</th>\n",
       "      <td>9701033</td>\n",
       "      <td>209076</td>\n",
       "      <td>0</td>\n",
       "      <td>0.063212</td>\n",
       "    </tr>\n",
       "    <tr>\n",
       "      <th>...</th>\n",
       "      <td>...</td>\n",
       "      <td>...</td>\n",
       "      <td>...</td>\n",
       "      <td>...</td>\n",
       "    </tr>\n",
       "    <tr>\n",
       "      <th>615507</th>\n",
       "      <td>9704211</td>\n",
       "      <td>9311015</td>\n",
       "      <td>1</td>\n",
       "      <td>0.103565</td>\n",
       "    </tr>\n",
       "    <tr>\n",
       "      <th>615508</th>\n",
       "      <td>9709133</td>\n",
       "      <td>9202062</td>\n",
       "      <td>0</td>\n",
       "      <td>0.000000</td>\n",
       "    </tr>\n",
       "    <tr>\n",
       "      <th>615509</th>\n",
       "      <td>7141</td>\n",
       "      <td>9610152</td>\n",
       "      <td>0</td>\n",
       "      <td>0.008035</td>\n",
       "    </tr>\n",
       "    <tr>\n",
       "      <th>615510</th>\n",
       "      <td>207232</td>\n",
       "      <td>111196</td>\n",
       "      <td>1</td>\n",
       "      <td>0.000000</td>\n",
       "    </tr>\n",
       "    <tr>\n",
       "      <th>615511</th>\n",
       "      <td>9903162</td>\n",
       "      <td>9805114</td>\n",
       "      <td>1</td>\n",
       "      <td>0.180210</td>\n",
       "    </tr>\n",
       "  </tbody>\n",
       "</table>\n",
       "<p>615512 rows × 4 columns</p>\n",
       "</div>"
      ],
      "text/plain": [
       "              0        1  2         0\n",
       "0       9510123  9502114  1  0.253769\n",
       "1       9707075  9604178  1  0.040928\n",
       "2       9312155  9506142  0  0.018897\n",
       "3       9911255   302165  0  0.011424\n",
       "4       9701033   209076  0  0.063212\n",
       "...         ...      ... ..       ...\n",
       "615507  9704211  9311015  1  0.103565\n",
       "615508  9709133  9202062  0  0.000000\n",
       "615509     7141  9610152  0  0.008035\n",
       "615510   207232   111196  1  0.000000\n",
       "615511  9903162  9805114  1  0.180210\n",
       "\n",
       "[615512 rows x 4 columns]"
      ]
     },
     "execution_count": 698,
     "metadata": {},
     "output_type": "execute_result"
    }
   ],
   "source": [
    "pl"
   ]
  },
  {
   "cell_type": "code",
   "execution_count": 687,
   "metadata": {},
   "outputs": [],
   "source": [
    "cols = ['node1','node2','is_link','cos_sim']\n",
    "pl.columns = cols"
   ]
  },
  {
   "cell_type": "code",
   "execution_count": 688,
   "metadata": {},
   "outputs": [
    {
     "data": {
      "text/html": [
       "<div>\n",
       "<style scoped>\n",
       "    .dataframe tbody tr th:only-of-type {\n",
       "        vertical-align: middle;\n",
       "    }\n",
       "\n",
       "    .dataframe tbody tr th {\n",
       "        vertical-align: top;\n",
       "    }\n",
       "\n",
       "    .dataframe thead th {\n",
       "        text-align: right;\n",
       "    }\n",
       "</style>\n",
       "<table border=\"1\" class=\"dataframe\">\n",
       "  <thead>\n",
       "    <tr style=\"text-align: right;\">\n",
       "      <th></th>\n",
       "      <th>node1</th>\n",
       "      <th>node2</th>\n",
       "      <th>is_link</th>\n",
       "      <th>cos_sim</th>\n",
       "    </tr>\n",
       "  </thead>\n",
       "  <tbody>\n",
       "    <tr>\n",
       "      <th>0</th>\n",
       "      <td>9510123</td>\n",
       "      <td>9502114</td>\n",
       "      <td>1</td>\n",
       "      <td>0.253769</td>\n",
       "    </tr>\n",
       "    <tr>\n",
       "      <th>1</th>\n",
       "      <td>9707075</td>\n",
       "      <td>9604178</td>\n",
       "      <td>1</td>\n",
       "      <td>0.040928</td>\n",
       "    </tr>\n",
       "    <tr>\n",
       "      <th>2</th>\n",
       "      <td>9312155</td>\n",
       "      <td>9506142</td>\n",
       "      <td>0</td>\n",
       "      <td>0.018897</td>\n",
       "    </tr>\n",
       "    <tr>\n",
       "      <th>3</th>\n",
       "      <td>9911255</td>\n",
       "      <td>302165</td>\n",
       "      <td>0</td>\n",
       "      <td>0.011424</td>\n",
       "    </tr>\n",
       "    <tr>\n",
       "      <th>4</th>\n",
       "      <td>9701033</td>\n",
       "      <td>209076</td>\n",
       "      <td>0</td>\n",
       "      <td>0.063212</td>\n",
       "    </tr>\n",
       "    <tr>\n",
       "      <th>...</th>\n",
       "      <td>...</td>\n",
       "      <td>...</td>\n",
       "      <td>...</td>\n",
       "      <td>...</td>\n",
       "    </tr>\n",
       "    <tr>\n",
       "      <th>610</th>\n",
       "      <td>9811176</td>\n",
       "      <td>5093</td>\n",
       "      <td>0</td>\n",
       "      <td>0.013803</td>\n",
       "    </tr>\n",
       "    <tr>\n",
       "      <th>611</th>\n",
       "      <td>204195</td>\n",
       "      <td>9807026</td>\n",
       "      <td>0</td>\n",
       "      <td>0.020652</td>\n",
       "    </tr>\n",
       "    <tr>\n",
       "      <th>612</th>\n",
       "      <td>105279</td>\n",
       "      <td>302011</td>\n",
       "      <td>0</td>\n",
       "      <td>0.144541</td>\n",
       "    </tr>\n",
       "    <tr>\n",
       "      <th>613</th>\n",
       "      <td>303150</td>\n",
       "      <td>110244</td>\n",
       "      <td>1</td>\n",
       "      <td>0.200385</td>\n",
       "    </tr>\n",
       "    <tr>\n",
       "      <th>614</th>\n",
       "      <td>9704110</td>\n",
       "      <td>9807004</td>\n",
       "      <td>0</td>\n",
       "      <td>0.002702</td>\n",
       "    </tr>\n",
       "  </tbody>\n",
       "</table>\n",
       "<p>615 rows × 4 columns</p>\n",
       "</div>"
      ],
      "text/plain": [
       "       node1    node2 is_link   cos_sim\n",
       "0    9510123  9502114       1  0.253769\n",
       "1    9707075  9604178       1  0.040928\n",
       "2    9312155  9506142       0  0.018897\n",
       "3    9911255   302165       0  0.011424\n",
       "4    9701033   209076       0  0.063212\n",
       "..       ...      ...     ...       ...\n",
       "610  9811176     5093       0  0.013803\n",
       "611   204195  9807026       0  0.020652\n",
       "612   105279   302011       0  0.144541\n",
       "613   303150   110244       1  0.200385\n",
       "614  9704110  9807004       0  0.002702\n",
       "\n",
       "[615 rows x 4 columns]"
      ]
     },
     "execution_count": 688,
     "metadata": {},
     "output_type": "execute_result"
    }
   ],
   "source": [
    "pl"
   ]
  },
  {
   "cell_type": "code",
   "execution_count": 689,
   "metadata": {},
   "outputs": [],
   "source": [
    "pl = pl.sort_values(by='cos_sim',ascending=False)"
   ]
  },
  {
   "cell_type": "code",
   "execution_count": 690,
   "metadata": {},
   "outputs": [
    {
     "data": {
      "text/html": [
       "<div>\n",
       "<style scoped>\n",
       "    .dataframe tbody tr th:only-of-type {\n",
       "        vertical-align: middle;\n",
       "    }\n",
       "\n",
       "    .dataframe tbody tr th {\n",
       "        vertical-align: top;\n",
       "    }\n",
       "\n",
       "    .dataframe thead th {\n",
       "        text-align: right;\n",
       "    }\n",
       "</style>\n",
       "<table border=\"1\" class=\"dataframe\">\n",
       "  <thead>\n",
       "    <tr style=\"text-align: right;\">\n",
       "      <th></th>\n",
       "      <th>node1</th>\n",
       "      <th>node2</th>\n",
       "      <th>is_link</th>\n",
       "      <th>cos_sim</th>\n",
       "    </tr>\n",
       "  </thead>\n",
       "  <tbody>\n",
       "    <tr>\n",
       "      <th>355</th>\n",
       "      <td>9406071</td>\n",
       "      <td>9307195</td>\n",
       "      <td>1</td>\n",
       "      <td>0.756379</td>\n",
       "    </tr>\n",
       "    <tr>\n",
       "      <th>376</th>\n",
       "      <td>101101</td>\n",
       "      <td>6180</td>\n",
       "      <td>1</td>\n",
       "      <td>0.722712</td>\n",
       "    </tr>\n",
       "    <tr>\n",
       "      <th>219</th>\n",
       "      <td>6221</td>\n",
       "      <td>6220</td>\n",
       "      <td>1</td>\n",
       "      <td>0.645672</td>\n",
       "    </tr>\n",
       "    <tr>\n",
       "      <th>72</th>\n",
       "      <td>9502159</td>\n",
       "      <td>9408096</td>\n",
       "      <td>1</td>\n",
       "      <td>0.515227</td>\n",
       "    </tr>\n",
       "    <tr>\n",
       "      <th>407</th>\n",
       "      <td>304233</td>\n",
       "      <td>103094</td>\n",
       "      <td>1</td>\n",
       "      <td>0.514071</td>\n",
       "    </tr>\n",
       "    <tr>\n",
       "      <th>...</th>\n",
       "      <td>...</td>\n",
       "      <td>...</td>\n",
       "      <td>...</td>\n",
       "      <td>...</td>\n",
       "    </tr>\n",
       "    <tr>\n",
       "      <th>90</th>\n",
       "      <td>9902022</td>\n",
       "      <td>9806095</td>\n",
       "      <td>1</td>\n",
       "      <td>0.000000</td>\n",
       "    </tr>\n",
       "    <tr>\n",
       "      <th>131</th>\n",
       "      <td>301140</td>\n",
       "      <td>207130</td>\n",
       "      <td>1</td>\n",
       "      <td>0.000000</td>\n",
       "    </tr>\n",
       "    <tr>\n",
       "      <th>451</th>\n",
       "      <td>6191</td>\n",
       "      <td>3236</td>\n",
       "      <td>1</td>\n",
       "      <td>0.000000</td>\n",
       "    </tr>\n",
       "    <tr>\n",
       "      <th>264</th>\n",
       "      <td>9805148</td>\n",
       "      <td>9801029</td>\n",
       "      <td>1</td>\n",
       "      <td>0.000000</td>\n",
       "    </tr>\n",
       "    <tr>\n",
       "      <th>303</th>\n",
       "      <td>9901146</td>\n",
       "      <td>9812172</td>\n",
       "      <td>1</td>\n",
       "      <td>0.000000</td>\n",
       "    </tr>\n",
       "  </tbody>\n",
       "</table>\n",
       "<p>330 rows × 4 columns</p>\n",
       "</div>"
      ],
      "text/plain": [
       "       node1    node2 is_link   cos_sim\n",
       "355  9406071  9307195       1  0.756379\n",
       "376   101101     6180       1  0.722712\n",
       "219     6221     6220       1  0.645672\n",
       "72   9502159  9408096       1  0.515227\n",
       "407   304233   103094       1  0.514071\n",
       "..       ...      ...     ...       ...\n",
       "90   9902022  9806095       1  0.000000\n",
       "131   301140   207130       1  0.000000\n",
       "451     6191     3236       1  0.000000\n",
       "264  9805148  9801029       1  0.000000\n",
       "303  9901146  9812172       1  0.000000\n",
       "\n",
       "[330 rows x 4 columns]"
      ]
     },
     "execution_count": 690,
     "metadata": {},
     "output_type": "execute_result"
    }
   ],
   "source": [
    "pl[pl['is_link']=='1']"
   ]
  },
  {
   "cell_type": "code",
   "execution_count": 691,
   "metadata": {},
   "outputs": [],
   "source": [
    "mask1 = pl[pl['is_link']=='0']\n",
    "mask2 = pl[pl['is_link']=='1']\n",
    "\n",
    "#plt.bar(x[mask1], y[mask1], color = 'red')\n",
    "#plt.bar(x[mask2], y[mask2], color = 'blue')\n",
    "#plt.show()"
   ]
  },
  {
   "cell_type": "code",
   "execution_count": 692,
   "metadata": {},
   "outputs": [],
   "source": [
    "mask1 = mask1.sort_values(by = 'cos_sim', ascending=False)\n",
    "mask2 = mask2.sort_values(by = 'cos_sim', ascending=False)"
   ]
  },
  {
   "cell_type": "code",
   "execution_count": 693,
   "metadata": {},
   "outputs": [
    {
     "data": {
      "image/png": "[encoded data removed]",
      "text/plain": [
       "<Figure size 1440x504 with 1 Axes>"
      ]
     },
     "metadata": {},
     "output_type": "display_data"
    },
    {
     "data": {
      "text/plain": [
       "<Figure size 1440x504 with 0 Axes>"
      ]
     },
     "metadata": {},
     "output_type": "display_data"
    }
   ],
   "source": [
    "plt.style.use('dark_background')\n",
    "mask1.plot.bar(figsize=(20,7), color = 'red')\n",
    "#mask2.plot.bar(figsize=(20,7), color = 'green')\n",
    "#plt.bar(mask1.index.values, mask1['cos_sim'], color='r')\n",
    "#plt.bar(mask2.index.values, mask2['cos_sim'], color='g')\n",
    "#pl.cos_sim.plot.bar(figsize=(20,7), color = 'green')\n",
    "#pl.plot.bar(figsize=(20,7), color = 'red', pl['cos_sim'][mask2])\n",
    "plt.title('Distribution of cosine similarity between source-target pairs', fontsize = 10, fontweight = 10)\n",
    "plt.xlabel('source-target pairs')\n",
    "plt.tick_params(axis='x',which='both',bottom=False,top=False,labelbottom=False)\n",
    "plt.ylabel('Cosine Similarity')\n",
    "plt.ylim((0, 1))\n",
    "plt.figure(figsize=(20,7))\n",
    "plt.show()"
   ]
  },
  {
   "cell_type": "code",
   "execution_count": 694,
   "metadata": {},
   "outputs": [
    {
     "data": {
      "image/png": "[encoded data removed]",
      "text/plain": [
       "<Figure size 1440x504 with 1 Axes>"
      ]
     },
     "metadata": {},
     "output_type": "display_data"
    },
    {
     "data": {
      "text/plain": [
       "<Figure size 1440x504 with 0 Axes>"
      ]
     },
     "metadata": {},
     "output_type": "display_data"
    }
   ],
   "source": [
    "plt.style.use('dark_background')\n",
    "#mask1.plot.bar(figsize=(20,7), color = 'red')\n",
    "mask2.plot.bar(figsize=(20,7), color = 'green')\n",
    "#plt.bar(mask1.index.values, mask1['cos_sim'], color='r')\n",
    "#plt.bar(mask2.index.values, mask2['cos_sim'], color='g')\n",
    "#pl.cos_sim.plot.bar(figsize=(20,7), color = 'green')\n",
    "#pl.plot.bar(figsize=(20,7), color = 'red', pl['cos_sim'][mask2])\n",
    "plt.title('Distribution of cosine similarity between source-target pairs', fontsize = 10, fontweight = 10)\n",
    "plt.xlabel('source-target pairs')\n",
    "plt.tick_params(axis='x',which='both',bottom=False,top=False,labelbottom=False)\n",
    "plt.ylabel('Cosine Similarity')\n",
    "plt.ylim((0, 1))\n",
    "plt.figure(figsize=(20,7))\n",
    "plt.show()"
   ]
  },
  {
   "cell_type": "markdown",
   "metadata": {},
   "source": [
    "## Basic Graph metrics"
   ]
  },
  {
   "cell_type": "code",
   "execution_count": 391,
   "metadata": {},
   "outputs": [],
   "source": [
    "# See NSA_v2.ipynb"
   ]
  },
  {
   "cell_type": "code",
   "execution_count": null,
   "metadata": {},
   "outputs": [],
   "source": []
  },
  {
   "cell_type": "code",
   "execution_count": null,
   "metadata": {},
   "outputs": [],
   "source": []
  },
  {
   "cell_type": "markdown",
   "metadata": {},
   "source": [
    "## Node2vec"
   ]
  },
  {
   "cell_type": "code",
   "execution_count": null,
   "metadata": {},
   "outputs": [],
   "source": []
  },
  {
   "cell_type": "code",
   "execution_count": null,
   "metadata": {},
   "outputs": [],
   "source": []
  },
  {
   "cell_type": "code",
   "execution_count": null,
   "metadata": {},
   "outputs": [],
   "source": []
  },
  {
   "cell_type": "markdown",
   "metadata": {},
   "source": [
    "## GATConv layer"
   ]
  },
  {
   "cell_type": "code",
   "execution_count": null,
   "metadata": {},
   "outputs": [],
   "source": [
    "import argparse\n",
    "from os import path\n",
    "\n",
    "import numpy as np\n",
    "import torch\n",
    "import torch.nn.functional as F\n",
    "from dgl import batch\n",
    "from dgl.data.ppi import LegacyPPIDataset\n",
    "from dgl.nn.pytorch import GraphConv\n",
    "from dgl.nn.pytorch.conv import GATConv\n",
    "from sklearn.metrics import f1_score\n",
    "from torch import nn, optim\n",
    "from torch.utils.data import DataLoader\n",
    "\n",
    "import matplotlib.pyplot as plt\n",
    "import seaborn as sns\n",
    "sns.set_style('darkgrid')\n",
    "\n",
    "\n",
    "MODEL_STATE_FILE = path.join(path.dirname(path.abspath(__file__)), \"model_state.pth\")\n",
    "\n",
    "\n",
    "import numpy as np\n",
    "import torch\n",
    "\n",
    "class EarlyStopping:\n",
    "    \"\"\"Early stops the training if validation loss doesn't improve after a given patience.\"\"\"\n",
    "    def __init__(self, patience=7, verbose=False, delta=0):\n",
    "        \"\"\"\n",
    "        Args:\n",
    "            patience (int): How long to wait after last time validation loss improved.\n",
    "                            Default: 7\n",
    "            verbose (bool): If True, prints a message for each validation loss improvement. \n",
    "                            Default: False\n",
    "            delta (float): Minimum change in the monitored quantity to qualify as an improvement.\n",
    "                            Default: 0\n",
    "        \"\"\"\n",
    "        self.patience = patience\n",
    "        self.verbose = verbose\n",
    "        self.counter = 0\n",
    "        self.best_score = None\n",
    "        self.early_stop = False\n",
    "        self.val_loss_min = np.Inf\n",
    "        self.delta = delta\n",
    "\n",
    "    def __call__(self, val_loss, model):\n",
    "\n",
    "        score = -val_loss\n",
    "\n",
    "        if self.best_score is None:\n",
    "            self.best_score = score\n",
    "            self.save_checkpoint(val_loss, model)\n",
    "        elif score < self.best_score + self.delta:\n",
    "            self.counter += 1\n",
    "            print(f'EarlyStopping counter: {self.counter} out of {self.patience}')\n",
    "            if self.counter >= self.patience:\n",
    "                self.early_stop = True\n",
    "        else:\n",
    "            self.best_score = score\n",
    "            self.save_checkpoint(val_loss, model)\n",
    "            self.counter = 0\n",
    "\n",
    "    def save_checkpoint(self, val_loss, model):\n",
    "        '''Saves model when validation loss decrease.'''\n",
    "        if self.verbose:\n",
    "            print(f'Validation loss decreased ({self.val_loss_min:.6f} --> {val_loss:.6f}).  Saving model ...')\n",
    "        torch.save(model.state_dict(), 'checkpoint.pt')\n",
    "        self.val_loss_min = val_loss\n",
    "\n",
    "\n",
    "def train(model, loss_fcn, device, optimizer, train_dataloader, test_dataset):\n",
    "    train_score_list = []\n",
    "    test_score_list = []\n",
    "    loss_data_list = []\n",
    "    loss_test_list = []\n",
    "    epoch_between_two_scores = 1\n",
    "    scheduler = torch.optim.lr_scheduler.ReduceLROnPlateau(optimizer, mode='min', \n",
    "                                                           factor=0.5, patience=5, verbose=True, \n",
    "                                                           min_lr=1e-5, eps=1e-08)\n",
    "    early_stopping = EarlyStopping(patience=30, verbose=False)\n",
    "    for epoch in range(args.epochs):\n",
    "        # train\n",
    "        model.train()\n",
    "        losses = []\n",
    "        for batch, data in enumerate(train_dataloader):\n",
    "            subgraph, features, labels = data\n",
    "            features = features.to(device)\n",
    "            labels = labels.to(device)\n",
    "            logits = model(subgraph, features.float())\n",
    "            loss = loss_fcn(logits, labels.float())\n",
    "            optimizer.zero_grad()\n",
    "            loss.backward()\n",
    "            optimizer.step()\n",
    "            losses.append(loss.item())\n",
    "        loss_data = np.array(losses).mean()\n",
    "        loss_data_list.append(loss_data)\n",
    "        \n",
    "        loss_mean = []\n",
    "        for batch, test_data in enumerate(test_dataset):\n",
    "            subgraph, features, labels = test_data\n",
    "            features = torch.tensor(features).to(device)\n",
    "            labels = torch.tensor(labels).to(device)\n",
    "            _, loss = evaluate(features.float(), model, subgraph, labels.float(), loss_fcn)\n",
    "            loss_mean.append(loss)\n",
    "        mean_test_loss = np.array(loss_mean).mean()\n",
    "        loss_test_list.append(mean_test_loss)\n",
    "        scheduler.step(mean_test_loss)\n",
    "        early_stopping(mean_test_loss, model)\n",
    "            \n",
    "        print(\"Epoch {:05d} | Train Loss: {:.4f} | Test Loss: {:.4f}\".format(epoch + 1, loss_data, mean_test_loss))\n",
    "       \n",
    "        # validate\n",
    "        if epoch % epoch_between_two_scores == 0:\n",
    "            train_scores = []\n",
    "            for batch, data in enumerate(train_dataloader):\n",
    "                subgraph, features, labels = data\n",
    "                features = features.to(device)\n",
    "                labels = labels.to(device)\n",
    "                train_score, _ = evaluate(features.float(), model, subgraph, labels.float(), loss_fcn)\n",
    "                train_scores.append(train_score) \n",
    "            mean_train_score = np.array(train_scores).mean()\n",
    "            train_score_list.append(mean_train_score)\n",
    "            \n",
    "            test_scores = []\n",
    "            for batch, test_data in enumerate(test_dataset):\n",
    "                subgraph, features, labels = test_data\n",
    "                features = torch.tensor(features).to(device)\n",
    "                labels = torch.tensor(labels).to(device)\n",
    "                test_score, _ = evaluate(features.float(), model, subgraph, labels.float(), loss_fcn)\n",
    "                test_scores.append(test_score)\n",
    "            mean_test_score = np.array(test_scores).mean()\n",
    "            test_score_list.append(mean_test_score)\n",
    "            print(\"   F1-Score | Train       {:.2%} | Test       {:.2%} \".format(mean_train_score, mean_test_score))\n",
    "        \n",
    "        \n",
    "        if early_stopping.early_stop:\n",
    "            print(\"Early stopping\")\n",
    "            break\n",
    "        \n",
    "    # load the last checkpoint with the best model\n",
    "    model.load_state_dict(torch.load('checkpoint.pt'))\n",
    "    history = {\n",
    "        'score':{\n",
    "            'train': train_score_list,\n",
    "            'test': test_score_list,\n",
    "            'epoch_between_two_scores': epoch_between_two_scores,\n",
    "        },\n",
    "        'loss':{\n",
    "            'train': loss_data_list,\n",
    "        }\n",
    "    }\n",
    "    return history\n",
    "\n",
    "\n",
    "def test(model, loss_fcn, device, test_dataloader):\n",
    "    test_scores = []\n",
    "    for batch, test_data in enumerate(test_dataloader):\n",
    "        subgraph, features, labels = test_data\n",
    "        features = features.to(device)\n",
    "        labels = labels.to(device)\n",
    "        test_scores.append(evaluate(features, model, subgraph, labels.float(), loss_fcn)[0])\n",
    "    mean_scores = np.array(test_scores).mean()\n",
    "    print(\"F1-Score: {:.4f}\".format(np.array(test_scores).mean()))\n",
    "    return mean_scores\n",
    "\n",
    "\n",
    "def evaluate(features, model, subgraph, labels, loss_fcn):\n",
    "    with torch.no_grad():\n",
    "        model.eval()\n",
    "        model.graph = subgraph\n",
    "        output = model(subgraph, features.float())\n",
    "        loss_data = loss_fcn(output, labels.float())\n",
    "        predict = np.where(output.data.cpu().numpy() >= 0.5, 1, 0)\n",
    "        score = f1_score(labels.data.cpu().numpy(), predict, average=\"micro\")\n",
    "        return score, loss_data.item()\n",
    "\n",
    "\n",
    "def collate_fn(sample):\n",
    "    graphs, features, labels = map(list, zip(*sample))\n",
    "    graph = batch(graphs)\n",
    "    features = torch.from_numpy(np.concatenate(features))\n",
    "    labels = torch.from_numpy(np.concatenate(labels))\n",
    "    return graph, features, labels\n",
    "\n",
    "def plot_score_fc(history):\n",
    "    step = history['score']['epoch_between_two_scores']\n",
    "    epoch_list = range(0, len(history['score']['train']) * step, step)\n",
    "    \n",
    "    fig = plt.figure(figsize = (13, 6))\n",
    "    ax1 = fig.add_subplot(1,1,1)\n",
    "    \n",
    "    train_score = history['score']['train']\n",
    "    ax1.plot(epoch_list, train_score)\n",
    "\n",
    "    test_score = history['score']['test']\n",
    "    ax1.plot(epoch_list, test_score)\n",
    "    \n",
    "    ax1.legend(['train score',' test score'])\n",
    "    ax1.set_xlabel('Epochs', size = 15)\n",
    "    ax1.set_ylabel('F1-score', size = 15)\n",
    "    ax1.set_title('Score of the train and test set each {step} epochs'.format(step = step), size = 20)\n",
    "\n",
    "    ax1.set_xlim(0, epoch_list[-1])\n",
    "    ax1.set_ylim(0,1)\n",
    "\n",
    "    ax1.set_yticks([value/10 for value in range(1, 11)])\n",
    "    fig.savefig('score.png')\n",
    "\n",
    "class Model(nn.Module):\n",
    "\n",
    "    def __init__(self, n_layers, input_size, hidden_size, output_size, nonlinearity):\n",
    "        super().__init__()\n",
    "        self.gat1 = GATConv(in_feats=input_size,\n",
    "                                    out_feats=256,\n",
    "                                    num_heads=4,\n",
    "                                   activation = F.elu\n",
    "                                  )\n",
    "        self.gat2 = GATConv(in_feats=256 * 4,\n",
    "                                    out_feats=256,\n",
    "                                    num_heads=4,\n",
    "                                   activation = F.elu\n",
    "                                  )\n",
    "        self.gat4 = GATConv(in_feats=256 * 4,\n",
    "                                    out_feats=256,\n",
    "                                    num_heads=4,\n",
    "                                   activation = F.elu\n",
    "                                  )\n",
    "        self.gat3 = GATConv(in_feats=256 * 4,\n",
    "                                    out_feats=121,\n",
    "                                    num_heads=6,\n",
    "                                   activation= F.elu\n",
    "                                  )\n",
    "        self.flatten1 = nn.Flatten()\n",
    "        self.flatten2 = nn.Flatten()\n",
    "        self.linear0 = nn.Linear(input_size, 256 * 4)\n",
    "        self.linear1 = nn.Linear(256 * 4, 256 * 4)\n",
    "        self.linear2 = nn.Linear(121 * 3, 121)\n",
    "        self.linear3 = nn.Linear(256 * 4, 121)\n",
    "        self.dropout = nn.Dropout(0.3)\n",
    "    def forward(self, subgraph,  inputs):\n",
    "        hidden = self.gat1(subgraph, inputs)\n",
    "        hidden = self.flatten1(hidden)\n",
    "        hidden2 = hidden\n",
    "        hidden = (hidden + F.relu(self.dropout(self.linear0(inputs)))) / 2\n",
    "        \n",
    "        shortcut = hidden\n",
    "        hidden = self.dropout(hidden)\n",
    "        hidden = self.gat2(subgraph, hidden)\n",
    "        hidden = self.flatten2(hidden)\n",
    "        \n",
    "        hidden2 = self.dropout(hidden2)\n",
    "        hidden2 = self.gat4(subgraph, hidden2)\n",
    "        hidden2 = self.flatten2(hidden2)\n",
    "        \n",
    "        hidden = (hidden +hidden2+ F.relu(self.dropout(self.linear1(shortcut)))) / 3\n",
    "        shortcut = hidden \n",
    "        \n",
    "        hidden = self.dropout(hidden)\n",
    "        hidden = self.gat3(subgraph,hidden)\n",
    "        hidden_mean = (hidden.mean(dim = 1) + F.relu(self.linear3(shortcut))) / 2\n",
    "        hidden_max = (hidden.max(dim = 1).values + F.relu(self.linear3(shortcut))) / 2\n",
    "        hidden_min = (hidden.min(dim = 1).values + F.relu(self.linear3(shortcut))) / 2\n",
    "        hidden = torch.cat([hidden_mean, hidden_max, hidden_min], dim = 1)\n",
    "        hidden = torch.sigmoid(self.linear2(hidden))\n",
    "        return hidden\n",
    "\n",
    "def main(args):\n",
    "    # create the dataset\n",
    "    train_dataset, test_dataset = LegacyPPIDataset(mode=\"train\"), LegacyPPIDataset(mode=\"test\")\n",
    "    train_dataloader = DataLoader(train_dataset, batch_size=args.batch_size, collate_fn=collate_fn)\n",
    "    test_dataloader = DataLoader(test_dataset, batch_size=args.batch_size, collate_fn=collate_fn)\n",
    "    n_features, n_classes = train_dataset.features.shape[1], train_dataset.labels.shape[1]\n",
    "\n",
    "    # create the model, loss function and optimizer\n",
    "    device = torch.device(\"cpu\" if args.gpu < 0 else \"cuda:\" + str(args.gpu))\n",
    "    model = Model(n_layers=None, input_size=n_features,hidden_size=256, output_size=n_classes, nonlinearity=F.elu).to(device)\n",
    "    loss_fcn = nn.BCELoss()\n",
    "    optimizer = torch.optim.Adam(model.parameters(), lr = 0.005)\n",
    "\n",
    "    # train and test\n",
    "    if args.mode == \"train\":\n",
    "        history = train(model, loss_fcn, device, optimizer, train_dataloader, test_dataset)\n",
    "        torch.save(model.state_dict(), MODEL_STATE_FILE)\n",
    "        if args.verbose:\n",
    "            plot_score_fc(history)\n",
    "        return history, test(model, loss_fcn, device, test_dataloader)\n",
    "    model.load_state_dict(torch.load(MODEL_STATE_FILE, map_location=lambda storage, loc: storage))\n",
    "\n",
    "    return test(model, loss_fcn, device, test_dataloader)\n",
    "\n",
    "\n",
    "if __name__ == \"__main__\":\n",
    "    parser = argparse.ArgumentParser()\n",
    "    parser.add_argument(\"--mode\",  choices=[\"train\", \"test\"], default=\"test\")\n",
    "    parser.add_argument(\"--gpu\", type=int, default=-1, help=\"GPU to use. Set -1 to use CPU.\")\n",
    "    parser.add_argument(\"--epochs\", type=int, default=400)\n",
    "    parser.add_argument(\"--batch-size\", type=int, default=2)\n",
    "    parser.add_argument(\"--verbose\", type=bool, default= False)\n",
    "    args = parser.parse_args()\n",
    "    main(args)\n",
    "\n"
   ]
  },
  {
   "cell_type": "code",
   "execution_count": null,
   "metadata": {},
   "outputs": [],
   "source": []
  },
  {
   "cell_type": "code",
   "execution_count": null,
   "metadata": {},
   "outputs": [],
   "source": []
  },
  {
   "cell_type": "code",
   "execution_count": null,
   "metadata": {},
   "outputs": [],
   "source": []
  },
  {
   "cell_type": "code",
   "execution_count": null,
   "metadata": {},
   "outputs": [],
   "source": []
  },
  {
   "cell_type": "code",
   "execution_count": null,
   "metadata": {},
   "outputs": [],
   "source": []
  },
  {
   "cell_type": "code",
   "execution_count": null,
   "metadata": {},
   "outputs": [],
   "source": []
  },
  {
   "cell_type": "code",
   "execution_count": null,
   "metadata": {},
   "outputs": [],
   "source": []
  },
  {
   "cell_type": "code",
   "execution_count": null,
   "metadata": {},
   "outputs": [],
   "source": []
  },
  {
   "cell_type": "code",
   "execution_count": null,
   "metadata": {},
   "outputs": [],
   "source": []
  },
  {
   "cell_type": "code",
   "execution_count": null,
   "metadata": {},
   "outputs": [],
   "source": []
  },
  {
   "cell_type": "code",
   "execution_count": null,
   "metadata": {},
   "outputs": [],
   "source": []
  },
  {
   "cell_type": "code",
   "execution_count": null,
   "metadata": {},
   "outputs": [],
   "source": []
  },
  {
   "cell_type": "code",
   "execution_count": null,
   "metadata": {},
   "outputs": [],
   "source": []
  },
  {
   "cell_type": "code",
   "execution_count": null,
   "metadata": {},
   "outputs": [],
   "source": []
  },
  {
   "cell_type": "code",
   "execution_count": 44,
   "metadata": {},
   "outputs": [],
   "source": []
  },
  {
   "cell_type": "code",
   "execution_count": null,
   "metadata": {},
   "outputs": [],
   "source": []
  },
  {
   "cell_type": "code",
   "execution_count": null,
   "metadata": {},
   "outputs": [],
   "source": []
  }
 ],
 "metadata": {
  "kernelspec": {
   "display_name": "Python 3",
   "language": "python",
   "name": "python3"
  },
  "language_info": {
   "codemirror_mode": {
    "name": "ipython",
    "version": 3
   },
   "file_extension": ".py",
   "mimetype": "text/x-python",
   "name": "python",
   "nbconvert_exporter": "python",
   "pygments_lexer": "ipython3",
   "version": "3.7.4"
  }
 },
 "nbformat": 4,
 "nbformat_minor": 4
}
